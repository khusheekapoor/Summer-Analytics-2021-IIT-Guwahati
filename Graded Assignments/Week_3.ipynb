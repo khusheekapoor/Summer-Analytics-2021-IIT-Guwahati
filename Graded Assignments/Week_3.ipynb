{
  "nbformat": 4,
  "nbformat_minor": 0,
  "metadata": {
    "colab": {
      "name": "Week_3.ipynb",
      "provenance": []
    },
    "kernelspec": {
      "display_name": "Python 3",
      "language": "python",
      "name": "python3"
    },
    "language_info": {
      "codemirror_mode": {
        "name": "ipython",
        "version": 3
      },
      "file_extension": ".py",
      "mimetype": "text/x-python",
      "name": "python",
      "nbconvert_exporter": "python",
      "pygments_lexer": "ipython3",
      "version": "3.8.5"
    }
  },
  "cells": [
    {
      "cell_type": "markdown",
      "metadata": {
        "id": "XU2nvCxTvpar"
      },
      "source": [
        "<br>\n",
        "<h1 style = \"font-size:40px; font-family:monospace ; font-weight : bold; color : #3C0096; text-align: center; border-radius: 5px 25px;\">SA-2021 Week 3 Graded Assignment</h1>\n",
        "<br>"
      ]
    },
    {
      "cell_type": "markdown",
      "metadata": {
        "id": "vziCwtYSvpav"
      },
      "source": [
        "<br>\n",
        "<h1 style = \"font-size:30px; font-family:monospace ; font-weight : bold; color : #AE0052; text-align: center; border-radius: 10px 10px;\">☔Rain Prediction in Australia☔</h1>\n",
        "<br>"
      ]
    },
    {
      "cell_type": "markdown",
      "metadata": {
        "id": "qrhh_RHuvpav"
      },
      "source": [
        "![](https://media0.giphy.com/media/tkMeNtj9FQYx2/giphy.gif)"
      ]
    },
    {
      "cell_type": "markdown",
      "metadata": {
        "id": "mRQUWnirvpaw"
      },
      "source": [
        "<span style=\"font-size:20px;color:#0026D8;font-weight : bold\">Dataset Description:</span>\n",
        "\n",
        "**This dataset contains daily weather observations from numerous Australian weather stations.**\n",
        "- **Date** - The date of observation<br>\n",
        "- **Location** - The common name of the location of the weather station<br>\n",
        "- **MinTemp** - The minimum temperature in degrees celsius<br>\n",
        "- **MaxTemp** - The maximum temperature in degrees celsius<br>\n",
        "- **Rainfall** - The amount of rainfall recorded for the day in mm<br>\n",
        "- **Evaporation** - The so-called Class A pan evaporation (mm) in the 24 hours to 9am<br>\n",
        "- **Sunshine** - The number of hours of bright sunshine in the day.<br>\n",
        "- **WindGustDir** - The direction of the strongest wind gust in the 24 hours to midnight<br>\n",
        "- **WindGustSpeed** - The speed (km/h) of the strongest wind gust in the 24 hours to midnight<br>\n",
        "- **WindDir9am** - Direction of the wind at 9am<br>\n",
        "- **WindDir3pm** - Direction of the wind at 3pm<br>\n",
        "- **WindSpeed9am** - Wind speed (km/hr) averaged over 10 minutes prior to 9am<br>\n",
        "- **WindSpeed3pm** - Wind speed (km/hr) averaged over 10 minutes prior to 3pm<br>\n",
        "- **Humidity9am** - Humidity (percent) at 9am<br>\n",
        "- **Humidity3pm** - Humidity (percent) at 3pm<br>\n",
        "- **Pressure9am** - Atmospheric pressure (hpa) reduced to mean sea level at 9am<br>\n",
        "- **Pressure3pm** - Atmospheric pressure (hpa) reduced to mean sea level at 3pm<br>\n",
        "- **Cloud9am** - Fraction of sky obscured by cloud at 9am. This is measured in \"oktas\", which are a unit of                    eigths. It records how many eigths of the sky are obscured by cloud. A 0 measure indicates                    completely clear sky whilst an 8 indicates that it is completely overcast.<br>\n",
        "- **Cloud3pm** - Fraction of sky obscured by cloud (in \"oktas\": eighths) at 3pm. See Cload9am for a description                of the values<br>\n",
        "- **Temp9am** - Temperature (degrees C) at 9am<br>\n",
        "- **Temp3pm** - Temperature (degrees C) at 3pm<br>\n",
        "- **RainToday** - Boolean: 1 if precipitation (mm) in the 24 hours to 9am exceeds 1mm, otherwise 0<br>\n",
        "- **RainTomorrow** - The target variable. Will it rain tomorrow?"
      ]
    },
    {
      "cell_type": "markdown",
      "metadata": {
        "id": "rsH1_6fPvpaw"
      },
      "source": [
        "### It is highly recommended to read the documentation before implementing any alogorithm."
      ]
    },
    {
      "cell_type": "markdown",
      "metadata": {
        "id": "tEcIZ5qdvpax"
      },
      "source": [
        "- **Logistic Regression** : https://scikit-learn.org/stable/modules/generated/sklearn.linear_model.LogisticRegression.html <br>\n",
        "- **SVM** : https://scikit-learn.org/stable/modules/svm.html <br>\n",
        "- **Confusion Matrix** : https://scikit-learn.org/stable/modules/generated/sklearn.metrics.confusion_matrix.html <br>\n",
        "- **Plot Confusion Matrix** : https://scikit-learn.org/stable/modules/generated/sklearn.metrics.plot_confusion_matrix.html <br>\n",
        "- **ROC_AUC Score** : https://scikit-learn.org/stable/modules/generated/sklearn.metrics.roc_auc_score.html#sklearn.metrics.roc_auc_score <br>\n",
        "- **Classification Report** : https://scikit-learn.org/stable/modules/generated/sklearn.metrics.classification_report.html <br>\n",
        "- **Label Encoder** : https://scikit-learn.org/stable/modules/generated/sklearn.preprocessing.LabelEncoder.html <br>\n",
        "- **Label Binarizer** : https://scikit-learn.org/stable/modules/generated/sklearn.preprocessing.LabelBinarizer.html <br>\n",
        "- **Standard Scaler** : https://scikit-learn.org/stable/modules/generated/sklearn.preprocessing.StandardScaler.html <br>\n",
        "- **Cross Val Score** : https://scikit-learn.org/stable/modules/generated/sklearn.model_selection.cross_val_score.html <br>\n",
        "\n"
      ]
    },
    {
      "cell_type": "code",
      "metadata": {
        "id": "1_Q5m8Xmvpax",
        "colab": {
          "base_uri": "https://localhost:8080/",
          "height": 17
        },
        "outputId": "413b58a4-78a6-4d8d-9bb7-97a1bb487a81"
      },
      "source": [
        "## ======== Run this Cell as it is======== ##\n",
        "\n",
        "from IPython.display import HTML\n",
        "HTML(\"\"\"\n",
        "<style>\n",
        "h1,h2,h3 {\n",
        "\tmargin: 1em 0 0.5em 0;\n",
        "\tfont-weight: 600;\n",
        "\tfont-family: 'Titillium Web', sans-serif;\n",
        "\tposition: relative;  \n",
        "\tfont-size: 36px;\n",
        "\tline-height: 40px;\n",
        "\tpadding: 15px 15px 15px 2.5%;\n",
        "\tcolor: #13003A;\n",
        "\tbox-shadow: \n",
        "\t\tinset 0 0 0 1px rgba(53,86,129, 1), \n",
        "\t\tinset 0 0 5px rgba(53,86,129, 1),\n",
        "\t\tinset -285px 0 35px white;\n",
        "\tborder-radius: 0 10px 0 15px;\n",
        "\tbackground: #fff\n",
        "    \n",
        "}\n",
        "</style>\n",
        "\"\"\")\n",
        "\n",
        "\n",
        "## ================================ ##"
      ],
      "execution_count": 1,
      "outputs": [
        {
          "output_type": "execute_result",
          "data": {
            "text/html": [
              "\n",
              "<style>\n",
              "h1,h2,h3 {\n",
              "\tmargin: 1em 0 0.5em 0;\n",
              "\tfont-weight: 600;\n",
              "\tfont-family: 'Titillium Web', sans-serif;\n",
              "\tposition: relative;  \n",
              "\tfont-size: 36px;\n",
              "\tline-height: 40px;\n",
              "\tpadding: 15px 15px 15px 2.5%;\n",
              "\tcolor: #13003A;\n",
              "\tbox-shadow: \n",
              "\t\tinset 0 0 0 1px rgba(53,86,129, 1), \n",
              "\t\tinset 0 0 5px rgba(53,86,129, 1),\n",
              "\t\tinset -285px 0 35px white;\n",
              "\tborder-radius: 0 10px 0 15px;\n",
              "\tbackground: #fff\n",
              "    \n",
              "}\n",
              "</style>\n"
            ],
            "text/plain": [
              "<IPython.core.display.HTML object>"
            ]
          },
          "metadata": {
            "tags": []
          },
          "execution_count": 1
        }
      ]
    },
    {
      "cell_type": "markdown",
      "metadata": {
        "id": "tQG2K5CQvpaz"
      },
      "source": [
        "<h1 style=\"background-color:#ABFF9B;font-size:20px;color:#00033E;font-weight : bold\">✅ Importing Required Libraries</h1>"
      ]
    },
    {
      "cell_type": "code",
      "metadata": {
        "id": "DHyUvB8tvpa0"
      },
      "source": [
        "## ======== YOUR CODE HERE ======== ##\n",
        "\n",
        "## Import numpy, pandas, matplotlib, seaborn\n",
        "\n",
        "import pandas as pd\n",
        "import numpy as np\n",
        "import matplotlib.pyplot as plt\n",
        "import seaborn as sns\n",
        "\n",
        "## Import Logistic regression and SVC\n",
        "\n",
        "from sklearn.svm import SVC\n",
        "from sklearn.linear_model import LogisticRegression\n",
        "\n",
        "## Import Confusion matrix, plot confusion matrix, classification report, accuracy score, auc-roc score and roc curve\n",
        "\n",
        "from sklearn.metrics import confusion_matrix, classification_report\n",
        "from sklearn.metrics import roc_auc_score\n",
        "from sklearn.metrics import accuracy_score\n",
        "from sklearn.metrics import roc_curve\n",
        "from sklearn.metrics import plot_confusion_matrix\n",
        "\n",
        "## Import Label encoder, label binarizer and Standard Scaler\n",
        "\n",
        "from sklearn.preprocessing import StandardScaler\n",
        "from sklearn.preprocessing import LabelEncoder,LabelBinarizer\n",
        "\n",
        "## ================================ ##\n",
        "\n",
        "from sklearn.model_selection import train_test_split\n",
        "from sklearn.model_selection import cross_val_score\n",
        "import warnings\n",
        "warnings.filterwarnings(\"ignore\")"
      ],
      "execution_count": 2,
      "outputs": []
    },
    {
      "cell_type": "markdown",
      "metadata": {
        "id": "r-tHNg8qvpa0"
      },
      "source": [
        "<h1 style=\"background-color:#ABFF9B;font-size:20px;color:#00033E;font-weight : bold\">Read the data </h1>"
      ]
    },
    {
      "cell_type": "code",
      "metadata": {
        "id": "m-owrU7vvpa0",
        "colab": {
          "base_uri": "https://localhost:8080/",
          "height": 215
        },
        "outputId": "1508ea85-bc21-4018-e479-1320462a1198"
      },
      "source": [
        "## ======== YOUR CODE HERE ======== ##\n",
        "\n",
        "df=pd.read_csv(\"SA2021_W3_Data.csv\")\n",
        "df.head()\n",
        "\n",
        "## ================================ ##"
      ],
      "execution_count": 3,
      "outputs": [
        {
          "output_type": "execute_result",
          "data": {
            "text/html": [
              "<div>\n",
              "<style scoped>\n",
              "    .dataframe tbody tr th:only-of-type {\n",
              "        vertical-align: middle;\n",
              "    }\n",
              "\n",
              "    .dataframe tbody tr th {\n",
              "        vertical-align: top;\n",
              "    }\n",
              "\n",
              "    .dataframe thead th {\n",
              "        text-align: right;\n",
              "    }\n",
              "</style>\n",
              "<table border=\"1\" class=\"dataframe\">\n",
              "  <thead>\n",
              "    <tr style=\"text-align: right;\">\n",
              "      <th></th>\n",
              "      <th>Date</th>\n",
              "      <th>Location</th>\n",
              "      <th>MinTemp</th>\n",
              "      <th>MaxTemp</th>\n",
              "      <th>Rainfall</th>\n",
              "      <th>Evaporation</th>\n",
              "      <th>Sunshine</th>\n",
              "      <th>WindGustDir</th>\n",
              "      <th>WindGustSpeed</th>\n",
              "      <th>WindDir9am</th>\n",
              "      <th>WindDir3pm</th>\n",
              "      <th>WindSpeed9am</th>\n",
              "      <th>WindSpeed3pm</th>\n",
              "      <th>Humidity9am</th>\n",
              "      <th>Humidity3pm</th>\n",
              "      <th>Pressure9am</th>\n",
              "      <th>Pressure3pm</th>\n",
              "      <th>Cloud9am</th>\n",
              "      <th>Cloud3pm</th>\n",
              "      <th>Temp9am</th>\n",
              "      <th>Temp3pm</th>\n",
              "      <th>RainToday</th>\n",
              "      <th>RainTomorrow</th>\n",
              "    </tr>\n",
              "  </thead>\n",
              "  <tbody>\n",
              "    <tr>\n",
              "      <th>0</th>\n",
              "      <td>2856</td>\n",
              "      <td>11</td>\n",
              "      <td>18.3</td>\n",
              "      <td>35.4</td>\n",
              "      <td>0.0</td>\n",
              "      <td>10.7</td>\n",
              "      <td>8.2</td>\n",
              "      <td>15</td>\n",
              "      <td>31</td>\n",
              "      <td>0</td>\n",
              "      <td>6</td>\n",
              "      <td>17</td>\n",
              "      <td>9</td>\n",
              "      <td>17</td>\n",
              "      <td>14</td>\n",
              "      <td>1012.8</td>\n",
              "      <td>1010.7</td>\n",
              "      <td>3</td>\n",
              "      <td>7</td>\n",
              "      <td>26.3</td>\n",
              "      <td>34.0</td>\n",
              "      <td>0</td>\n",
              "      <td>1</td>\n",
              "    </tr>\n",
              "    <tr>\n",
              "      <th>1</th>\n",
              "      <td>575</td>\n",
              "      <td>0</td>\n",
              "      <td>12.0</td>\n",
              "      <td>21.1</td>\n",
              "      <td>0.0</td>\n",
              "      <td>2.4</td>\n",
              "      <td>4.9</td>\n",
              "      <td>11</td>\n",
              "      <td>22</td>\n",
              "      <td>15</td>\n",
              "      <td>10</td>\n",
              "      <td>9</td>\n",
              "      <td>9</td>\n",
              "      <td>70</td>\n",
              "      <td>60</td>\n",
              "      <td>1022.3</td>\n",
              "      <td>1020.2</td>\n",
              "      <td>2</td>\n",
              "      <td>7</td>\n",
              "      <td>16.2</td>\n",
              "      <td>19.4</td>\n",
              "      <td>0</td>\n",
              "      <td>0</td>\n",
              "    </tr>\n",
              "    <tr>\n",
              "      <th>2</th>\n",
              "      <td>2037</td>\n",
              "      <td>6</td>\n",
              "      <td>11.9</td>\n",
              "      <td>17.0</td>\n",
              "      <td>1.6</td>\n",
              "      <td>5.6</td>\n",
              "      <td>0.8</td>\n",
              "      <td>5</td>\n",
              "      <td>48</td>\n",
              "      <td>4</td>\n",
              "      <td>3</td>\n",
              "      <td>24</td>\n",
              "      <td>30</td>\n",
              "      <td>71</td>\n",
              "      <td>88</td>\n",
              "      <td>1008.4</td>\n",
              "      <td>1004.7</td>\n",
              "      <td>7</td>\n",
              "      <td>7</td>\n",
              "      <td>14.6</td>\n",
              "      <td>13.3</td>\n",
              "      <td>1</td>\n",
              "      <td>1</td>\n",
              "    </tr>\n",
              "    <tr>\n",
              "      <th>3</th>\n",
              "      <td>2010</td>\n",
              "      <td>19</td>\n",
              "      <td>1.3</td>\n",
              "      <td>10.2</td>\n",
              "      <td>4.2</td>\n",
              "      <td>2.6</td>\n",
              "      <td>4.4</td>\n",
              "      <td>15</td>\n",
              "      <td>33</td>\n",
              "      <td>15</td>\n",
              "      <td>13</td>\n",
              "      <td>15</td>\n",
              "      <td>17</td>\n",
              "      <td>87</td>\n",
              "      <td>64</td>\n",
              "      <td>1018.4</td>\n",
              "      <td>1016.8</td>\n",
              "      <td>7</td>\n",
              "      <td>7</td>\n",
              "      <td>3.8</td>\n",
              "      <td>8.5</td>\n",
              "      <td>1</td>\n",
              "      <td>0</td>\n",
              "    </tr>\n",
              "    <tr>\n",
              "      <th>4</th>\n",
              "      <td>2895</td>\n",
              "      <td>18</td>\n",
              "      <td>23.7</td>\n",
              "      <td>31.5</td>\n",
              "      <td>0.0</td>\n",
              "      <td>11.0</td>\n",
              "      <td>12.1</td>\n",
              "      <td>4</td>\n",
              "      <td>35</td>\n",
              "      <td>2</td>\n",
              "      <td>1</td>\n",
              "      <td>17</td>\n",
              "      <td>28</td>\n",
              "      <td>53</td>\n",
              "      <td>50</td>\n",
              "      <td>1014.2</td>\n",
              "      <td>1010.2</td>\n",
              "      <td>3</td>\n",
              "      <td>1</td>\n",
              "      <td>29.1</td>\n",
              "      <td>30.4</td>\n",
              "      <td>0</td>\n",
              "      <td>0</td>\n",
              "    </tr>\n",
              "  </tbody>\n",
              "</table>\n",
              "</div>"
            ],
            "text/plain": [
              "   Date  Location  MinTemp  MaxTemp  ...  Temp9am  Temp3pm  RainToday  RainTomorrow\n",
              "0  2856        11     18.3     35.4  ...     26.3     34.0          0             1\n",
              "1   575         0     12.0     21.1  ...     16.2     19.4          0             0\n",
              "2  2037         6     11.9     17.0  ...     14.6     13.3          1             1\n",
              "3  2010        19      1.3     10.2  ...      3.8      8.5          1             0\n",
              "4  2895        18     23.7     31.5  ...     29.1     30.4          0             0\n",
              "\n",
              "[5 rows x 23 columns]"
            ]
          },
          "metadata": {
            "tags": []
          },
          "execution_count": 3
        }
      ]
    },
    {
      "cell_type": "code",
      "metadata": {
        "id": "mxownAh7vpa1",
        "colab": {
          "base_uri": "https://localhost:8080/"
        },
        "outputId": "e0c82852-4a0e-4ddc-9da0-14dfb6ef9b9f"
      },
      "source": [
        "## Check the shape of data. It should be (24196,23)\n",
        "\n",
        "## ======== YOUR CODE HERE ======== ##\n",
        "\n",
        "print(\"Shape -> \",df.shape)\n",
        "df.info()\n",
        "\n",
        "## ================================ ##"
      ],
      "execution_count": 4,
      "outputs": [
        {
          "output_type": "stream",
          "text": [
            "Shape ->  (24196, 23)\n",
            "<class 'pandas.core.frame.DataFrame'>\n",
            "RangeIndex: 24196 entries, 0 to 24195\n",
            "Data columns (total 23 columns):\n",
            " #   Column         Non-Null Count  Dtype  \n",
            "---  ------         --------------  -----  \n",
            " 0   Date           24196 non-null  int64  \n",
            " 1   Location       24196 non-null  int64  \n",
            " 2   MinTemp        24196 non-null  float64\n",
            " 3   MaxTemp        24196 non-null  float64\n",
            " 4   Rainfall       24196 non-null  float64\n",
            " 5   Evaporation    24196 non-null  float64\n",
            " 6   Sunshine       24196 non-null  float64\n",
            " 7   WindGustDir    24196 non-null  int64  \n",
            " 8   WindGustSpeed  24196 non-null  int64  \n",
            " 9   WindDir9am     24196 non-null  int64  \n",
            " 10  WindDir3pm     24196 non-null  int64  \n",
            " 11  WindSpeed9am   24196 non-null  int64  \n",
            " 12  WindSpeed3pm   24196 non-null  int64  \n",
            " 13  Humidity9am    24196 non-null  int64  \n",
            " 14  Humidity3pm    24196 non-null  int64  \n",
            " 15  Pressure9am    24196 non-null  float64\n",
            " 16  Pressure3pm    24196 non-null  float64\n",
            " 17  Cloud9am       24196 non-null  int64  \n",
            " 18  Cloud3pm       24196 non-null  int64  \n",
            " 19  Temp9am        24196 non-null  float64\n",
            " 20  Temp3pm        24196 non-null  float64\n",
            " 21  RainToday      24196 non-null  int64  \n",
            " 22  RainTomorrow   24196 non-null  int64  \n",
            "dtypes: float64(9), int64(14)\n",
            "memory usage: 4.2 MB\n"
          ],
          "name": "stdout"
        }
      ]
    },
    {
      "cell_type": "code",
      "metadata": {
        "id": "sMBhA4H3vpa1",
        "colab": {
          "base_uri": "https://localhost:8080/",
          "height": 304
        },
        "outputId": "dfdf6d5b-b50c-4c85-810c-a342637e4fd2"
      },
      "source": [
        "## Apply describe on dataframe\n",
        "\n",
        "## ======== YOUR CODE HERE ======== ##\n",
        "\n",
        "df.describe()\n",
        "\n",
        "## ================================ ##"
      ],
      "execution_count": 5,
      "outputs": [
        {
          "output_type": "execute_result",
          "data": {
            "text/html": [
              "<div>\n",
              "<style scoped>\n",
              "    .dataframe tbody tr th:only-of-type {\n",
              "        vertical-align: middle;\n",
              "    }\n",
              "\n",
              "    .dataframe tbody tr th {\n",
              "        vertical-align: top;\n",
              "    }\n",
              "\n",
              "    .dataframe thead th {\n",
              "        text-align: right;\n",
              "    }\n",
              "</style>\n",
              "<table border=\"1\" class=\"dataframe\">\n",
              "  <thead>\n",
              "    <tr style=\"text-align: right;\">\n",
              "      <th></th>\n",
              "      <th>Date</th>\n",
              "      <th>Location</th>\n",
              "      <th>MinTemp</th>\n",
              "      <th>MaxTemp</th>\n",
              "      <th>Rainfall</th>\n",
              "      <th>Evaporation</th>\n",
              "      <th>Sunshine</th>\n",
              "      <th>WindGustDir</th>\n",
              "      <th>WindGustSpeed</th>\n",
              "      <th>WindDir9am</th>\n",
              "      <th>WindDir3pm</th>\n",
              "      <th>WindSpeed9am</th>\n",
              "      <th>WindSpeed3pm</th>\n",
              "      <th>Humidity9am</th>\n",
              "      <th>Humidity3pm</th>\n",
              "      <th>Pressure9am</th>\n",
              "      <th>Pressure3pm</th>\n",
              "      <th>Cloud9am</th>\n",
              "      <th>Cloud3pm</th>\n",
              "      <th>Temp9am</th>\n",
              "      <th>Temp3pm</th>\n",
              "      <th>RainToday</th>\n",
              "      <th>RainTomorrow</th>\n",
              "    </tr>\n",
              "  </thead>\n",
              "  <tbody>\n",
              "    <tr>\n",
              "      <th>count</th>\n",
              "      <td>24196.000000</td>\n",
              "      <td>24196.000000</td>\n",
              "      <td>24196.000000</td>\n",
              "      <td>24196.000000</td>\n",
              "      <td>24196.000000</td>\n",
              "      <td>24196.000000</td>\n",
              "      <td>24196.000000</td>\n",
              "      <td>24196.000000</td>\n",
              "      <td>24196.000000</td>\n",
              "      <td>24196.000000</td>\n",
              "      <td>24196.000000</td>\n",
              "      <td>24196.000000</td>\n",
              "      <td>24196.000000</td>\n",
              "      <td>24196.000000</td>\n",
              "      <td>24196.000000</td>\n",
              "      <td>24196.000000</td>\n",
              "      <td>24196.000000</td>\n",
              "      <td>24196.000000</td>\n",
              "      <td>24196.000000</td>\n",
              "      <td>24196.000000</td>\n",
              "      <td>24196.000000</td>\n",
              "      <td>24196.000000</td>\n",
              "      <td>24196.000000</td>\n",
              "    </tr>\n",
              "    <tr>\n",
              "      <th>mean</th>\n",
              "      <td>1702.554430</td>\n",
              "      <td>11.126880</td>\n",
              "      <td>13.281232</td>\n",
              "      <td>23.124078</td>\n",
              "      <td>3.008857</td>\n",
              "      <td>5.114329</td>\n",
              "      <td>6.700591</td>\n",
              "      <td>7.752273</td>\n",
              "      <td>42.371880</td>\n",
              "      <td>7.315424</td>\n",
              "      <td>7.698504</td>\n",
              "      <td>16.106175</td>\n",
              "      <td>20.245206</td>\n",
              "      <td>69.505621</td>\n",
              "      <td>55.335345</td>\n",
              "      <td>1016.774682</td>\n",
              "      <td>1014.508518</td>\n",
              "      <td>4.767152</td>\n",
              "      <td>4.926682</td>\n",
              "      <td>17.609216</td>\n",
              "      <td>21.493420</td>\n",
              "      <td>0.293396</td>\n",
              "      <td>0.453918</td>\n",
              "    </tr>\n",
              "    <tr>\n",
              "      <th>std</th>\n",
              "      <td>837.645705</td>\n",
              "      <td>6.397324</td>\n",
              "      <td>6.084032</td>\n",
              "      <td>6.681013</td>\n",
              "      <td>8.399269</td>\n",
              "      <td>3.549384</td>\n",
              "      <td>3.958287</td>\n",
              "      <td>4.788052</td>\n",
              "      <td>14.221336</td>\n",
              "      <td>4.634019</td>\n",
              "      <td>4.738448</td>\n",
              "      <td>8.658300</td>\n",
              "      <td>8.968817</td>\n",
              "      <td>17.671186</td>\n",
              "      <td>20.907040</td>\n",
              "      <td>6.987625</td>\n",
              "      <td>6.877345</td>\n",
              "      <td>2.741416</td>\n",
              "      <td>2.586083</td>\n",
              "      <td>6.189396</td>\n",
              "      <td>6.535474</td>\n",
              "      <td>0.455328</td>\n",
              "      <td>0.497882</td>\n",
              "    </tr>\n",
              "    <tr>\n",
              "      <th>min</th>\n",
              "      <td>0.000000</td>\n",
              "      <td>0.000000</td>\n",
              "      <td>-4.700000</td>\n",
              "      <td>4.100000</td>\n",
              "      <td>0.000000</td>\n",
              "      <td>0.000000</td>\n",
              "      <td>0.000000</td>\n",
              "      <td>0.000000</td>\n",
              "      <td>9.000000</td>\n",
              "      <td>0.000000</td>\n",
              "      <td>0.000000</td>\n",
              "      <td>2.000000</td>\n",
              "      <td>2.000000</td>\n",
              "      <td>3.000000</td>\n",
              "      <td>0.000000</td>\n",
              "      <td>980.500000</td>\n",
              "      <td>979.000000</td>\n",
              "      <td>0.000000</td>\n",
              "      <td>0.000000</td>\n",
              "      <td>-0.700000</td>\n",
              "      <td>3.700000</td>\n",
              "      <td>0.000000</td>\n",
              "      <td>0.000000</td>\n",
              "    </tr>\n",
              "    <tr>\n",
              "      <th>25%</th>\n",
              "      <td>984.000000</td>\n",
              "      <td>6.000000</td>\n",
              "      <td>8.600000</td>\n",
              "      <td>17.900000</td>\n",
              "      <td>0.000000</td>\n",
              "      <td>2.400000</td>\n",
              "      <td>3.400000</td>\n",
              "      <td>3.000000</td>\n",
              "      <td>31.000000</td>\n",
              "      <td>3.000000</td>\n",
              "      <td>3.000000</td>\n",
              "      <td>9.000000</td>\n",
              "      <td>13.000000</td>\n",
              "      <td>58.000000</td>\n",
              "      <td>41.000000</td>\n",
              "      <td>1012.200000</td>\n",
              "      <td>1009.900000</td>\n",
              "      <td>2.000000</td>\n",
              "      <td>3.000000</td>\n",
              "      <td>12.700000</td>\n",
              "      <td>16.500000</td>\n",
              "      <td>0.000000</td>\n",
              "      <td>0.000000</td>\n",
              "    </tr>\n",
              "    <tr>\n",
              "      <th>50%</th>\n",
              "      <td>1651.000000</td>\n",
              "      <td>11.000000</td>\n",
              "      <td>13.100000</td>\n",
              "      <td>22.700000</td>\n",
              "      <td>0.000000</td>\n",
              "      <td>4.400000</td>\n",
              "      <td>7.200000</td>\n",
              "      <td>8.000000</td>\n",
              "      <td>41.000000</td>\n",
              "      <td>7.000000</td>\n",
              "      <td>8.000000</td>\n",
              "      <td>15.000000</td>\n",
              "      <td>19.000000</td>\n",
              "      <td>70.000000</td>\n",
              "      <td>56.000000</td>\n",
              "      <td>1016.800000</td>\n",
              "      <td>1014.400000</td>\n",
              "      <td>6.000000</td>\n",
              "      <td>6.000000</td>\n",
              "      <td>17.300000</td>\n",
              "      <td>21.100000</td>\n",
              "      <td>0.000000</td>\n",
              "      <td>0.000000</td>\n",
              "    </tr>\n",
              "    <tr>\n",
              "      <th>75%</th>\n",
              "      <td>2381.000000</td>\n",
              "      <td>17.000000</td>\n",
              "      <td>18.000000</td>\n",
              "      <td>28.100000</td>\n",
              "      <td>1.800000</td>\n",
              "      <td>7.000000</td>\n",
              "      <td>10.000000</td>\n",
              "      <td>12.000000</td>\n",
              "      <td>50.000000</td>\n",
              "      <td>11.000000</td>\n",
              "      <td>12.000000</td>\n",
              "      <td>20.000000</td>\n",
              "      <td>26.000000</td>\n",
              "      <td>83.000000</td>\n",
              "      <td>70.000000</td>\n",
              "      <td>1021.400000</td>\n",
              "      <td>1019.000000</td>\n",
              "      <td>7.000000</td>\n",
              "      <td>7.000000</td>\n",
              "      <td>22.300000</td>\n",
              "      <td>26.200000</td>\n",
              "      <td>1.000000</td>\n",
              "      <td>1.000000</td>\n",
              "    </tr>\n",
              "    <tr>\n",
              "      <th>max</th>\n",
              "      <td>3415.000000</td>\n",
              "      <td>22.000000</td>\n",
              "      <td>31.400000</td>\n",
              "      <td>46.800000</td>\n",
              "      <td>206.200000</td>\n",
              "      <td>59.800000</td>\n",
              "      <td>14.500000</td>\n",
              "      <td>15.000000</td>\n",
              "      <td>122.000000</td>\n",
              "      <td>15.000000</td>\n",
              "      <td>15.000000</td>\n",
              "      <td>65.000000</td>\n",
              "      <td>76.000000</td>\n",
              "      <td>100.000000</td>\n",
              "      <td>100.000000</td>\n",
              "      <td>1040.200000</td>\n",
              "      <td>1037.000000</td>\n",
              "      <td>8.000000</td>\n",
              "      <td>9.000000</td>\n",
              "      <td>39.400000</td>\n",
              "      <td>46.100000</td>\n",
              "      <td>1.000000</td>\n",
              "      <td>1.000000</td>\n",
              "    </tr>\n",
              "  </tbody>\n",
              "</table>\n",
              "</div>"
            ],
            "text/plain": [
              "               Date      Location  ...     RainToday  RainTomorrow\n",
              "count  24196.000000  24196.000000  ...  24196.000000  24196.000000\n",
              "mean    1702.554430     11.126880  ...      0.293396      0.453918\n",
              "std      837.645705      6.397324  ...      0.455328      0.497882\n",
              "min        0.000000      0.000000  ...      0.000000      0.000000\n",
              "25%      984.000000      6.000000  ...      0.000000      0.000000\n",
              "50%     1651.000000     11.000000  ...      0.000000      0.000000\n",
              "75%     2381.000000     17.000000  ...      1.000000      1.000000\n",
              "max     3415.000000     22.000000  ...      1.000000      1.000000\n",
              "\n",
              "[8 rows x 23 columns]"
            ]
          },
          "metadata": {
            "tags": []
          },
          "execution_count": 5
        }
      ]
    },
    {
      "cell_type": "markdown",
      "metadata": {
        "id": "0rh7Jr4tvpa1"
      },
      "source": [
        "<h1 style=\"background-color:#ABFF9B;font-size:20px;color:#00033E;font-weight : bold\">Check missing values in the dataset and fill them by any method</h1>"
      ]
    },
    {
      "cell_type": "code",
      "metadata": {
        "id": "4z466pWsvpa1",
        "colab": {
          "base_uri": "https://localhost:8080/"
        },
        "outputId": "8b142338-4c6b-4ebc-d0fa-2e5c65fb700f"
      },
      "source": [
        "## Check if there any null value in the dataset.\n",
        "\n",
        "## ======== YOUR CODE HERE ======== ##\n",
        "\n",
        "df.isnull().sum()\n",
        "\n",
        "## ================================ ##"
      ],
      "execution_count": 6,
      "outputs": [
        {
          "output_type": "execute_result",
          "data": {
            "text/plain": [
              "Date             0\n",
              "Location         0\n",
              "MinTemp          0\n",
              "MaxTemp          0\n",
              "Rainfall         0\n",
              "Evaporation      0\n",
              "Sunshine         0\n",
              "WindGustDir      0\n",
              "WindGustSpeed    0\n",
              "WindDir9am       0\n",
              "WindDir3pm       0\n",
              "WindSpeed9am     0\n",
              "WindSpeed3pm     0\n",
              "Humidity9am      0\n",
              "Humidity3pm      0\n",
              "Pressure9am      0\n",
              "Pressure3pm      0\n",
              "Cloud9am         0\n",
              "Cloud3pm         0\n",
              "Temp9am          0\n",
              "Temp3pm          0\n",
              "RainToday        0\n",
              "RainTomorrow     0\n",
              "dtype: int64"
            ]
          },
          "metadata": {
            "tags": []
          },
          "execution_count": 6
        }
      ]
    },
    {
      "cell_type": "markdown",
      "metadata": {
        "id": "c-BNxcmrvpa2"
      },
      "source": [
        "<h1 style=\"background-color:#ABFF9B;font-size:20px;color:#00033E;font-weight : bold\">Use Feature Encoding :</h1>"
      ]
    },
    {
      "cell_type": "code",
      "metadata": {
        "id": "FZmvqTMxvpa2",
        "colab": {
          "base_uri": "https://localhost:8080/",
          "height": 232
        },
        "outputId": "36f4a4a8-2234-47b5-a32e-8b2d970be456"
      },
      "source": [
        "## ======== YOUR CODE HERE ======== ##\n",
        "\n",
        "## Use one hot encoding on dataframe\n",
        "\n",
        "## Optional step \n",
        "\n",
        "ohe = pd.get_dummies(data=df)\n",
        "print(ohe.shape)\n",
        "ohe.head()\n",
        "\n",
        "\n",
        "## ================================ ##\n"
      ],
      "execution_count": 7,
      "outputs": [
        {
          "output_type": "stream",
          "text": [
            "(24196, 23)\n"
          ],
          "name": "stdout"
        },
        {
          "output_type": "execute_result",
          "data": {
            "text/html": [
              "<div>\n",
              "<style scoped>\n",
              "    .dataframe tbody tr th:only-of-type {\n",
              "        vertical-align: middle;\n",
              "    }\n",
              "\n",
              "    .dataframe tbody tr th {\n",
              "        vertical-align: top;\n",
              "    }\n",
              "\n",
              "    .dataframe thead th {\n",
              "        text-align: right;\n",
              "    }\n",
              "</style>\n",
              "<table border=\"1\" class=\"dataframe\">\n",
              "  <thead>\n",
              "    <tr style=\"text-align: right;\">\n",
              "      <th></th>\n",
              "      <th>Date</th>\n",
              "      <th>Location</th>\n",
              "      <th>MinTemp</th>\n",
              "      <th>MaxTemp</th>\n",
              "      <th>Rainfall</th>\n",
              "      <th>Evaporation</th>\n",
              "      <th>Sunshine</th>\n",
              "      <th>WindGustDir</th>\n",
              "      <th>WindGustSpeed</th>\n",
              "      <th>WindDir9am</th>\n",
              "      <th>WindDir3pm</th>\n",
              "      <th>WindSpeed9am</th>\n",
              "      <th>WindSpeed3pm</th>\n",
              "      <th>Humidity9am</th>\n",
              "      <th>Humidity3pm</th>\n",
              "      <th>Pressure9am</th>\n",
              "      <th>Pressure3pm</th>\n",
              "      <th>Cloud9am</th>\n",
              "      <th>Cloud3pm</th>\n",
              "      <th>Temp9am</th>\n",
              "      <th>Temp3pm</th>\n",
              "      <th>RainToday</th>\n",
              "      <th>RainTomorrow</th>\n",
              "    </tr>\n",
              "  </thead>\n",
              "  <tbody>\n",
              "    <tr>\n",
              "      <th>0</th>\n",
              "      <td>2856</td>\n",
              "      <td>11</td>\n",
              "      <td>18.3</td>\n",
              "      <td>35.4</td>\n",
              "      <td>0.0</td>\n",
              "      <td>10.7</td>\n",
              "      <td>8.2</td>\n",
              "      <td>15</td>\n",
              "      <td>31</td>\n",
              "      <td>0</td>\n",
              "      <td>6</td>\n",
              "      <td>17</td>\n",
              "      <td>9</td>\n",
              "      <td>17</td>\n",
              "      <td>14</td>\n",
              "      <td>1012.8</td>\n",
              "      <td>1010.7</td>\n",
              "      <td>3</td>\n",
              "      <td>7</td>\n",
              "      <td>26.3</td>\n",
              "      <td>34.0</td>\n",
              "      <td>0</td>\n",
              "      <td>1</td>\n",
              "    </tr>\n",
              "    <tr>\n",
              "      <th>1</th>\n",
              "      <td>575</td>\n",
              "      <td>0</td>\n",
              "      <td>12.0</td>\n",
              "      <td>21.1</td>\n",
              "      <td>0.0</td>\n",
              "      <td>2.4</td>\n",
              "      <td>4.9</td>\n",
              "      <td>11</td>\n",
              "      <td>22</td>\n",
              "      <td>15</td>\n",
              "      <td>10</td>\n",
              "      <td>9</td>\n",
              "      <td>9</td>\n",
              "      <td>70</td>\n",
              "      <td>60</td>\n",
              "      <td>1022.3</td>\n",
              "      <td>1020.2</td>\n",
              "      <td>2</td>\n",
              "      <td>7</td>\n",
              "      <td>16.2</td>\n",
              "      <td>19.4</td>\n",
              "      <td>0</td>\n",
              "      <td>0</td>\n",
              "    </tr>\n",
              "    <tr>\n",
              "      <th>2</th>\n",
              "      <td>2037</td>\n",
              "      <td>6</td>\n",
              "      <td>11.9</td>\n",
              "      <td>17.0</td>\n",
              "      <td>1.6</td>\n",
              "      <td>5.6</td>\n",
              "      <td>0.8</td>\n",
              "      <td>5</td>\n",
              "      <td>48</td>\n",
              "      <td>4</td>\n",
              "      <td>3</td>\n",
              "      <td>24</td>\n",
              "      <td>30</td>\n",
              "      <td>71</td>\n",
              "      <td>88</td>\n",
              "      <td>1008.4</td>\n",
              "      <td>1004.7</td>\n",
              "      <td>7</td>\n",
              "      <td>7</td>\n",
              "      <td>14.6</td>\n",
              "      <td>13.3</td>\n",
              "      <td>1</td>\n",
              "      <td>1</td>\n",
              "    </tr>\n",
              "    <tr>\n",
              "      <th>3</th>\n",
              "      <td>2010</td>\n",
              "      <td>19</td>\n",
              "      <td>1.3</td>\n",
              "      <td>10.2</td>\n",
              "      <td>4.2</td>\n",
              "      <td>2.6</td>\n",
              "      <td>4.4</td>\n",
              "      <td>15</td>\n",
              "      <td>33</td>\n",
              "      <td>15</td>\n",
              "      <td>13</td>\n",
              "      <td>15</td>\n",
              "      <td>17</td>\n",
              "      <td>87</td>\n",
              "      <td>64</td>\n",
              "      <td>1018.4</td>\n",
              "      <td>1016.8</td>\n",
              "      <td>7</td>\n",
              "      <td>7</td>\n",
              "      <td>3.8</td>\n",
              "      <td>8.5</td>\n",
              "      <td>1</td>\n",
              "      <td>0</td>\n",
              "    </tr>\n",
              "    <tr>\n",
              "      <th>4</th>\n",
              "      <td>2895</td>\n",
              "      <td>18</td>\n",
              "      <td>23.7</td>\n",
              "      <td>31.5</td>\n",
              "      <td>0.0</td>\n",
              "      <td>11.0</td>\n",
              "      <td>12.1</td>\n",
              "      <td>4</td>\n",
              "      <td>35</td>\n",
              "      <td>2</td>\n",
              "      <td>1</td>\n",
              "      <td>17</td>\n",
              "      <td>28</td>\n",
              "      <td>53</td>\n",
              "      <td>50</td>\n",
              "      <td>1014.2</td>\n",
              "      <td>1010.2</td>\n",
              "      <td>3</td>\n",
              "      <td>1</td>\n",
              "      <td>29.1</td>\n",
              "      <td>30.4</td>\n",
              "      <td>0</td>\n",
              "      <td>0</td>\n",
              "    </tr>\n",
              "  </tbody>\n",
              "</table>\n",
              "</div>"
            ],
            "text/plain": [
              "   Date  Location  MinTemp  MaxTemp  ...  Temp9am  Temp3pm  RainToday  RainTomorrow\n",
              "0  2856        11     18.3     35.4  ...     26.3     34.0          0             1\n",
              "1   575         0     12.0     21.1  ...     16.2     19.4          0             0\n",
              "2  2037         6     11.9     17.0  ...     14.6     13.3          1             1\n",
              "3  2010        19      1.3     10.2  ...      3.8      8.5          1             0\n",
              "4  2895        18     23.7     31.5  ...     29.1     30.4          0             0\n",
              "\n",
              "[5 rows x 23 columns]"
            ]
          },
          "metadata": {
            "tags": []
          },
          "execution_count": 7
        }
      ]
    },
    {
      "cell_type": "markdown",
      "metadata": {
        "id": "pm9NZc9Bvpa2"
      },
      "source": [
        "<h1 style=\"background-color:#ABFF9B;font-size:20px;color:#00033E;font-weight : bold\">Split the data into train and test.</h1>"
      ]
    },
    {
      "cell_type": "code",
      "metadata": {
        "id": "ENos_-58vpa2"
      },
      "source": [
        "## ======== YOUR CODE HERE ======== ##\n",
        " \n",
        "## Test size should be 25% of the full dataset and use random state = 2021\n",
        "\n",
        "Y = df['RainTomorrow']\n",
        "X = df.drop(['RainTomorrow'], axis=1)\n",
        "\n",
        "X_train, X_test, y_train, y_test = train_test_split(X,Y, test_size=0.25, random_state=2021)\n",
        "\n",
        "\n",
        "## ================================ ##"
      ],
      "execution_count": 8,
      "outputs": []
    },
    {
      "cell_type": "code",
      "metadata": {
        "id": "9z0dhowPvpa2",
        "colab": {
          "base_uri": "https://localhost:8080/"
        },
        "outputId": "ef6620a5-c617-4251-c169-feae30e8456a"
      },
      "source": [
        "## ======== YOUR CODE HERE ======== ##\n",
        "\n",
        "   ## Let us print the shapes:\n",
        "    \n",
        "print(\"X_train:\", X_train.shape) # X_train\n",
        "print(\"X_test:\",X_test.shape) # X_test\n",
        "print(\"y_train:\",y_train.shape) # y_train\n",
        "print(\"y_test:\",y_test.shape) # y_test\n",
        "\n",
        "## ================================ ##"
      ],
      "execution_count": 9,
      "outputs": [
        {
          "output_type": "stream",
          "text": [
            "X_train: (18147, 22)\n",
            "X_test: (6049, 22)\n",
            "y_train: (18147,)\n",
            "y_test: (6049,)\n"
          ],
          "name": "stdout"
        }
      ]
    },
    {
      "cell_type": "markdown",
      "metadata": {
        "id": "qgbT2Gqdvpa3"
      },
      "source": [
        "<h1 style=\"background-color:#ABFF9B;font-size:20px;color:#00033E;font-weight : bold\">Scale the data using Standard Scaler :</h1>"
      ]
    },
    {
      "cell_type": "code",
      "metadata": {
        "id": "3n7PsXYnvpa3"
      },
      "source": [
        "## Use Standard Scaler to scale the train and test data\n",
        "\n",
        "## ======== YOUR CODE HERE ======== ##\n",
        "\n",
        "scaler = StandardScaler()\n",
        "X_train_scaled= scaler.fit_transform(X_train)\n",
        "X_test_scaled= scaler.transform(X_test)\n",
        "\n",
        "## ================================ ##"
      ],
      "execution_count": 10,
      "outputs": []
    },
    {
      "cell_type": "markdown",
      "metadata": {
        "id": "IY8VC5sBvpa3"
      },
      "source": [
        "<h1 style=\"background-color:#ABFF9B;font-size:20px;color:#00033E;font-weight : bold\">Train a Logistic Regression with all default parameters</h1>"
      ]
    },
    {
      "cell_type": "code",
      "metadata": {
        "id": "8vZV0RUhvpa3",
        "colab": {
          "base_uri": "https://localhost:8080/"
        },
        "outputId": "de1f1a56-8281-46e2-cb11-d7632b3a370f"
      },
      "source": [
        "## Use Random state = 2021 and fit the LR model\n",
        "\n",
        "## ======== YOUR CODE HERE ======== ##\n",
        "\n",
        "logreg = LogisticRegression(random_state=2021)\n",
        "logreg.fit(X_train_scaled, y_train)\n",
        "\n",
        "## ================================ ##"
      ],
      "execution_count": 11,
      "outputs": [
        {
          "output_type": "execute_result",
          "data": {
            "text/plain": [
              "LogisticRegression(C=1.0, class_weight=None, dual=False, fit_intercept=True,\n",
              "                   intercept_scaling=1, l1_ratio=None, max_iter=100,\n",
              "                   multi_class='auto', n_jobs=None, penalty='l2',\n",
              "                   random_state=2021, solver='lbfgs', tol=0.0001, verbose=0,\n",
              "                   warm_start=False)"
            ]
          },
          "metadata": {
            "tags": []
          },
          "execution_count": 11
        }
      ]
    },
    {
      "cell_type": "markdown",
      "metadata": {
        "id": "bnmjHAupvpa4"
      },
      "source": [
        "<h1 style=\"background-color:#ABFF9B;font-size:20px;color:#00033E;font-weight : bold\">Plot Confusion Matrix using plot_confusion_matrix module :</h1>"
      ]
    },
    {
      "cell_type": "code",
      "metadata": {
        "id": "E1SXfdSUvpa4",
        "colab": {
          "base_uri": "https://localhost:8080/",
          "height": 300
        },
        "outputId": "586c8b9c-4c26-4836-8a9a-82c6a5a4b226"
      },
      "source": [
        "## ======== YOUR CODE HERE ======== ##\n",
        "\n",
        "## Use display labels as per your choice.\n",
        "\n",
        "plot_confusion_matrix(logreg,X_test_scaled,y_test, \n",
        "                     values_format='d',\n",
        "                     display_labels=[\"False\",\"True\"],cmap='rocket')\n",
        "\n",
        "## ================================ ##"
      ],
      "execution_count": 12,
      "outputs": [
        {
          "output_type": "execute_result",
          "data": {
            "text/plain": [
              "<sklearn.metrics._plot.confusion_matrix.ConfusionMatrixDisplay at 0x7f883ab52890>"
            ]
          },
          "metadata": {
            "tags": []
          },
          "execution_count": 12
        },
        {
          "output_type": "display_data",
          "data": {
            "image/png": "[encoded data removed]",
            "text/plain": [
              "<Figure size 432x288 with 2 Axes>"
            ]
          },
          "metadata": {
            "tags": [],
            "needs_background": "light"
          }
        }
      ]
    },
    {
      "cell_type": "markdown",
      "metadata": {
        "id": "pgN165X7vpa4"
      },
      "source": [
        "<h1 style=\"background-color:#ABFF9B;font-size:20px;color:#00033E;font-weight : bold\">Print out Classification Report for LR :</h1>"
      ]
    },
    {
      "cell_type": "code",
      "metadata": {
        "id": "FzcnzDD9vpa4",
        "colab": {
          "base_uri": "https://localhost:8080/"
        },
        "outputId": "14eb0507-eaa2-4d39-d02e-8d9a07716196"
      },
      "source": [
        "## ======== YOUR CODE HERE ======== ##\n",
        "\n",
        "y_pred_logreg=logreg.predict(X_test_scaled)\n",
        "print(classification_report(y_test,y_pred_logreg))\n",
        "\n",
        "## ================================ ##\n"
      ],
      "execution_count": 13,
      "outputs": [
        {
          "output_type": "stream",
          "text": [
            "              precision    recall  f1-score   support\n",
            "\n",
            "           0       0.80      0.83      0.82      3300\n",
            "           1       0.79      0.75      0.77      2749\n",
            "\n",
            "    accuracy                           0.80      6049\n",
            "   macro avg       0.80      0.79      0.79      6049\n",
            "weighted avg       0.80      0.80      0.80      6049\n",
            "\n"
          ],
          "name": "stdout"
        }
      ]
    },
    {
      "cell_type": "markdown",
      "metadata": {
        "id": "Xle8Hr2vvpa4"
      },
      "source": [
        "<h1 style=\"background-color:#ABFF9B;font-size:20px;color:#00033E;font-weight : bold\">Print Training and Testing Score along with Accuracy score for LR :</h1> "
      ]
    },
    {
      "cell_type": "code",
      "metadata": {
        "id": "ND1kWpJMvpa5",
        "colab": {
          "base_uri": "https://localhost:8080/"
        },
        "outputId": "b2f01fd3-0e02-4445-f2e4-628f70390a2f"
      },
      "source": [
        "## ======== YOUR CODE HERE ======== ##\n",
        "\n",
        "print(\"Train Data Score: {}\".format(logreg.score(X_train_scaled, y_train)))\n",
        "print(\"Test Data Score: {}\".format(logreg.score(X_test_scaled, y_test)))\n",
        "\n",
        "## ================================ ##"
      ],
      "execution_count": 14,
      "outputs": [
        {
          "output_type": "stream",
          "text": [
            "Train Data Score: 0.7989199316691464\n",
            "Test Data Score: 0.7969912382211936\n"
          ],
          "name": "stdout"
        }
      ]
    },
    {
      "cell_type": "code",
      "metadata": {
        "id": "jm3sW4ZTvpa5",
        "colab": {
          "base_uri": "https://localhost:8080/"
        },
        "outputId": "6f37c2fa-73dc-4acd-ef6c-3eea50cf1ca3"
      },
      "source": [
        "## ======== YOUR CODE HERE ======== ##\n",
        "\n",
        "## Print Accuracy Score for LR\n",
        "\n",
        "print('Accuracy Score:',accuracy_score(y_test,y_pred_logreg))\n",
        "\n",
        "## ================================ ##"
      ],
      "execution_count": 15,
      "outputs": [
        {
          "output_type": "stream",
          "text": [
            "Accuracy Score: 0.7969912382211936\n"
          ],
          "name": "stdout"
        }
      ]
    },
    {
      "cell_type": "markdown",
      "metadata": {
        "id": "T16gbfRQvpa5"
      },
      "source": [
        "<h1 style=\"background-color:#ABFF9B;font-size:20px;color:#00033E;font-weight : bold\">Print ROC - AUC Score for LR :</h1> "
      ]
    },
    {
      "cell_type": "code",
      "metadata": {
        "id": "IV0ubSL9vpa5",
        "colab": {
          "base_uri": "https://localhost:8080/"
        },
        "outputId": "c3e76842-a078-45df-e82b-bd465ffc487c"
      },
      "source": [
        "## ======== YOUR CODE HERE ======== ##\n",
        "\n",
        "## Right way to calculate ROC_AUC score is by using predict_proba method given in official Docs. Sorry from our side.\n",
        "\n",
        "print('ROC AUC Scores: {}'.format(roc_auc_score(y_test, y_pred_logreg)))\n",
        "\n",
        "## ================================ ##"
      ],
      "execution_count": 16,
      "outputs": [
        {
          "output_type": "stream",
          "text": [
            "ROC AUC Scores: 0.7933187274711465\n"
          ],
          "name": "stdout"
        }
      ]
    },
    {
      "cell_type": "markdown",
      "metadata": {
        "id": "og34rzbSvpa5"
      },
      "source": [
        "<h1 style=\"background-color:#ABFF9B;font-size:20px;color:#00033E;font-weight : bold\">Train SVM with C = 50 and gamma = scale :</h1>"
      ]
    },
    {
      "cell_type": "code",
      "metadata": {
        "id": "_fw1j2cxvpa5",
        "colab": {
          "base_uri": "https://localhost:8080/"
        },
        "outputId": "af01f13f-2912-4845-f2f5-f3616e5766f4"
      },
      "source": [
        "## ======== YOUR CODE HERE ======== ##\n",
        "\n",
        "## Set probability = True \n",
        "\n",
        "clf_svm = SVC(random_state=2021,C=50,gamma='scale',kernel='rbf',probability=True)\n",
        "clf_svm.fit(X_train_scaled, y_train)\n",
        "\n",
        "## ================================ ##"
      ],
      "execution_count": 17,
      "outputs": [
        {
          "output_type": "execute_result",
          "data": {
            "text/plain": [
              "SVC(C=50, break_ties=False, cache_size=200, class_weight=None, coef0=0.0,\n",
              "    decision_function_shape='ovr', degree=3, gamma='scale', kernel='rbf',\n",
              "    max_iter=-1, probability=True, random_state=2021, shrinking=True, tol=0.001,\n",
              "    verbose=False)"
            ]
          },
          "metadata": {
            "tags": []
          },
          "execution_count": 17
        }
      ]
    },
    {
      "cell_type": "markdown",
      "metadata": {
        "id": "y8VRDRHXvpa6"
      },
      "source": [
        "<h1 style=\"background-color:#ABFF9B;font-size:20px;color:#00033E;font-weight : bold\">Plot Confusion Matrix for SVM :</h1>"
      ]
    },
    {
      "cell_type": "code",
      "metadata": {
        "id": "1TTVlekPvpa6",
        "colab": {
          "base_uri": "https://localhost:8080/",
          "height": 296
        },
        "outputId": "7eabff50-f065-4c08-fe7e-4bb6c2d7d56a"
      },
      "source": [
        "## ======== YOUR CODE HERE ======== ##\n",
        "\n",
        "## Use display labels as per your choice.\n",
        "\n",
        "plot_confusion_matrix(clf_svm,X_test_scaled,y_test, \n",
        "                     values_format='d',\n",
        "                     display_labels=[\"False\",\"True\"],cmap='rocket')\n",
        "\n",
        "\n",
        "## ================================ ##\n"
      ],
      "execution_count": 18,
      "outputs": [
        {
          "output_type": "execute_result",
          "data": {
            "text/plain": [
              "<sklearn.metrics._plot.confusion_matrix.ConfusionMatrixDisplay at 0x7f8826d91ad0>"
            ]
          },
          "metadata": {
            "tags": []
          },
          "execution_count": 18
        },
        {
          "output_type": "display_data",
          "data": {
            "image/png": "[encoded data removed]",
            "text/plain": [
              "<Figure size 432x288 with 2 Axes>"
            ]
          },
          "metadata": {
            "tags": [],
            "needs_background": "light"
          }
        }
      ]
    },
    {
      "cell_type": "markdown",
      "metadata": {
        "id": "TNWvmLSivpa6"
      },
      "source": [
        "<h1 style=\"background-color:#ABFF9B;font-size:20px;color:#00033E;font-weight : bold\">Print out Classification Report for SVM :</h1>"
      ]
    },
    {
      "cell_type": "code",
      "metadata": {
        "id": "yQDf6wOdvpa6",
        "colab": {
          "base_uri": "https://localhost:8080/"
        },
        "outputId": "6c4c7ed6-d0a4-4286-ec64-1de75d7630c3"
      },
      "source": [
        "## ======== YOUR CODE HERE ======== ##\n",
        "\n",
        "y_pred1=clf_svm.predict(X_test_scaled)\n",
        "print(classification_report(y_test,y_pred1))\n",
        "\n",
        "## ================================ ##"
      ],
      "execution_count": 19,
      "outputs": [
        {
          "output_type": "stream",
          "text": [
            "              precision    recall  f1-score   support\n",
            "\n",
            "           0       0.80      0.81      0.80      3300\n",
            "           1       0.76      0.76      0.76      2749\n",
            "\n",
            "    accuracy                           0.78      6049\n",
            "   macro avg       0.78      0.78      0.78      6049\n",
            "weighted avg       0.78      0.78      0.78      6049\n",
            "\n"
          ],
          "name": "stdout"
        }
      ]
    },
    {
      "cell_type": "markdown",
      "metadata": {
        "id": "SfF49qwIvpa7"
      },
      "source": [
        "<h1 style=\"background-color:#ABFF9B;font-size:20px;color:#00033E;font-weight : bold\">Print out Accuracy score for SVM :</h1>"
      ]
    },
    {
      "cell_type": "code",
      "metadata": {
        "id": "lH1lkfsFvpa7",
        "colab": {
          "base_uri": "https://localhost:8080/"
        },
        "outputId": "67f62604-cfab-45b1-d02a-942d8b19b97f"
      },
      "source": [
        "## ======== YOUR CODE HERE ======== ##\n",
        "\n",
        "print('Accuracy Score: ',accuracy_score(y_test,y_pred1))\n",
        "\n",
        "## ================================ ##"
      ],
      "execution_count": 20,
      "outputs": [
        {
          "output_type": "stream",
          "text": [
            "Accuracy Score:  0.7834352785584394\n"
          ],
          "name": "stdout"
        }
      ]
    },
    {
      "cell_type": "markdown",
      "metadata": {
        "id": "0tlgy05Jvpa7"
      },
      "source": [
        "<h1 style=\"background-color:#ABFF9B;font-size:20px;color:#00033E;font-weight : bold\">Print Training and Testing Score for SVM :</h1> "
      ]
    },
    {
      "cell_type": "code",
      "metadata": {
        "id": "yqofS78Xvpa7",
        "colab": {
          "base_uri": "https://localhost:8080/"
        },
        "outputId": "a3a5fe51-ebfc-4b3a-de29-ce43496f3a0d"
      },
      "source": [
        "## ======== YOUR CODE HERE ======== ##\n",
        "\n",
        "print(\"Train Data Score: {}\".format(clf_svm.score(X_train_scaled, y_train)))\n",
        "print(\"Test Data Score: {}\".format(clf_svm.score(X_test_scaled, y_test)))\n",
        "\n",
        "## ================================ ##"
      ],
      "execution_count": 21,
      "outputs": [
        {
          "output_type": "stream",
          "text": [
            "Train Data Score: 0.9291342921695046\n",
            "Test Data Score: 0.7834352785584394\n"
          ],
          "name": "stdout"
        }
      ]
    },
    {
      "cell_type": "markdown",
      "metadata": {
        "id": "Ti_PCgHpvpa7"
      },
      "source": [
        "<h1 style=\"background-color:#ABFF9B;font-size:20px;color:#00033E;font-weight : bold\">Plot ROC curve and calculate ROC - AUC score for SVM :</h1> "
      ]
    },
    {
      "cell_type": "code",
      "metadata": {
        "id": "iml9q7hrvpa8",
        "colab": {
          "base_uri": "https://localhost:8080/",
          "height": 295
        },
        "outputId": "ee349ff2-b97e-4a76-974b-ecd06480f430"
      },
      "source": [
        "## ======== YOUR CODE HERE ======== ##\n",
        "\n",
        "## Set appropriate X label, Y label and Title for the graph\n",
        "\n",
        "y_pred_svm_proba = clf_svm.predict_proba(X_test_scaled)\n",
        "fpr, tpr, thresholds = roc_curve(y_test, y_pred_svm_proba[:,1])\n",
        "\n",
        "plt.figure(figsize=(6,4))\n",
        "plt.plot(fpr,tpr,'-r',linewidth=1)\n",
        "plt.plot([0,1], [0,1], 'k--' )\n",
        "plt.title('ROC curve for SVM (C=50)')\n",
        "plt.xlabel(\"False Positive Rate\")\n",
        "plt.ylabel('True Positive Rate')\n",
        "plt.show()\n",
        "\n",
        "\n",
        "## ================================ ##"
      ],
      "execution_count": 22,
      "outputs": [
        {
          "output_type": "display_data",
          "data": {
            "image/png": "[encoded data removed]",
            "text/plain": [
              "<Figure size 432x288 with 1 Axes>"
            ]
          },
          "metadata": {
            "tags": [],
            "needs_background": "light"
          }
        }
      ]
    },
    {
      "cell_type": "code",
      "metadata": {
        "id": "T_ninnLwvpa8",
        "colab": {
          "base_uri": "https://localhost:8080/"
        },
        "outputId": "228be26b-64f2-4c8a-b528-bd11cd00e60a"
      },
      "source": [
        "## ======== YOUR CODE HERE ======== ##\n",
        "\n",
        "## Print out ROC score for SVM\n",
        "\n",
        "print('ROC AUC Scores: {}'.format(roc_auc_score(y_test, y_pred1)))\n",
        "\n",
        "## ================================ ##"
      ],
      "execution_count": 23,
      "outputs": [
        {
          "output_type": "stream",
          "text": [
            "ROC AUC Scores: 0.7811374384073547\n"
          ],
          "name": "stdout"
        }
      ]
    },
    {
      "cell_type": "markdown",
      "metadata": {
        "id": "YmpeyKWWvpa8"
      },
      "source": [
        "<h1 style=\"background-color:#ABFF9B;font-size:20px;color:#00033E;font-weight : bold\">Train SVM with C = 1 and gamma = scale :</h1> "
      ]
    },
    {
      "cell_type": "code",
      "metadata": {
        "id": "z9mfbGb9vpa8",
        "colab": {
          "base_uri": "https://localhost:8080/"
        },
        "outputId": "f333c031-6aae-454f-9788-66e56c1036a3"
      },
      "source": [
        "## ======== YOUR CODE HERE ======== ##\n",
        "\n",
        "## Train SVM with new mentioned parameters\n",
        "\n",
        "clf_svm_new = SVC(random_state=2021,probability=True,C=1,gamma='scale')\n",
        "clf_svm_new.fit(X_train_scaled, y_train)\n",
        "\n",
        "## ================================ ##"
      ],
      "execution_count": 24,
      "outputs": [
        {
          "output_type": "execute_result",
          "data": {
            "text/plain": [
              "SVC(C=1, break_ties=False, cache_size=200, class_weight=None, coef0=0.0,\n",
              "    decision_function_shape='ovr', degree=3, gamma='scale', kernel='rbf',\n",
              "    max_iter=-1, probability=True, random_state=2021, shrinking=True, tol=0.001,\n",
              "    verbose=False)"
            ]
          },
          "metadata": {
            "tags": []
          },
          "execution_count": 24
        }
      ]
    },
    {
      "cell_type": "markdown",
      "metadata": {
        "id": "pKOp4Cbyvpa9"
      },
      "source": [
        "<h1 style=\"background-color:#ABFF9B;font-size:20px;color:#00033E;font-weight : bold\">Print out Classification Report for new SVM :</h1>"
      ]
    },
    {
      "cell_type": "code",
      "metadata": {
        "id": "dPLlDBz0vpa9",
        "colab": {
          "base_uri": "https://localhost:8080/",
          "height": 434
        },
        "outputId": "d4a042b5-0a8f-4292-f217-60d44a95651e"
      },
      "source": [
        "## ======== YOUR CODE HERE ======== ##\n",
        "\n",
        "plot_confusion_matrix(clf_svm_new,X_test_scaled,y_test, \n",
        "                     values_format='d',\n",
        "                     display_labels=[\"False\",\"True\"],cmap='rocket')\n",
        "\n",
        "y_pred_svm=clf_svm_new.predict(X_test_scaled)\n",
        "print(classification_report(y_test,y_pred_svm))\n",
        "\n",
        "\n",
        "## ================================ ##"
      ],
      "execution_count": 25,
      "outputs": [
        {
          "output_type": "stream",
          "text": [
            "              precision    recall  f1-score   support\n",
            "\n",
            "           0       0.82      0.84      0.83      3300\n",
            "           1       0.80      0.78      0.79      2749\n",
            "\n",
            "    accuracy                           0.81      6049\n",
            "   macro avg       0.81      0.81      0.81      6049\n",
            "weighted avg       0.81      0.81      0.81      6049\n",
            "\n"
          ],
          "name": "stdout"
        },
        {
          "output_type": "display_data",
          "data": {
            "image/png": "[encoded data removed]",
            "text/plain": [
              "<Figure size 432x288 with 2 Axes>"
            ]
          },
          "metadata": {
            "tags": [],
            "needs_background": "light"
          }
        }
      ]
    },
    {
      "cell_type": "markdown",
      "metadata": {
        "id": "c71VaRy9vpa9"
      },
      "source": [
        "<h1 style=\"background-color:#ABFF9B;font-size:20px;color:#00033E;font-weight : bold\">Plot ROC curve and calculate ROC - AUC score for the new SVM :</h1> "
      ]
    },
    {
      "cell_type": "code",
      "metadata": {
        "id": "iT8NNVKkvpa9",
        "colab": {
          "base_uri": "https://localhost:8080/",
          "height": 312
        },
        "outputId": "76d21d6f-9c41-470a-ff44-9b05b9673d30"
      },
      "source": [
        "## ======== YOUR CODE HERE ======== ##\n",
        "\n",
        "y_pred_svm_proba_new = clf_svm_new.predict_proba(X_test_scaled)\n",
        "fpr, tpr, thresholds = roc_curve(y_test, y_pred_svm_proba_new[:,1])\n",
        "\n",
        "plt.figure(figsize=(6,4))\n",
        "plt.plot(fpr,tpr,'-r',linewidth=1)\n",
        "plt.plot([0,1], [0,1], 'k--' )\n",
        "plt.title('ROC curve for SVM (C=1)')\n",
        "plt.xlabel(\"False Positive Rate\")\n",
        "plt.ylabel('True Positive Rate')\n",
        "plt.show()\n",
        "\n",
        "print('ROC AUC Scores: {}'.format(roc_auc_score(y_test, y_pred_svm)))\n",
        "\n",
        "## ================================ ##"
      ],
      "execution_count": 26,
      "outputs": [
        {
          "output_type": "display_data",
          "data": {
            "image/png": "[encoded data removed]",
            "text/plain": [
              "<Figure size 432x288 with 1 Axes>"
            ]
          },
          "metadata": {
            "tags": [],
            "needs_background": "light"
          }
        },
        {
          "output_type": "stream",
          "text": [
            "ROC AUC Scores: 0.8072020128531587\n"
          ],
          "name": "stdout"
        }
      ]
    },
    {
      "cell_type": "markdown",
      "metadata": {
        "id": "6tlhrJ8qvpa-"
      },
      "source": [
        "<h1 style=\"background-color:#ABFF9B;font-size:20px;color:#00033E;font-weight : bold\">Print Training and Testing Score along with accuracy score for the new SVM :</h1> "
      ]
    },
    {
      "cell_type": "code",
      "metadata": {
        "id": "AnydqRTQvpa-",
        "colab": {
          "base_uri": "https://localhost:8080/"
        },
        "outputId": "cd032093-5763-4114-8f8e-6383f3353995"
      },
      "source": [
        "## ======== YOUR CODE HERE ======== ##\n",
        "\n",
        "print(\"Train Data Score: {}\".format(clf_svm_new.score(X_train_scaled, y_train)))\n",
        "print(\"Test Data Score: {}\".format(clf_svm_new.score(X_test_scaled, y_test)))\n",
        "\n",
        "## ================================ ##"
      ],
      "execution_count": 27,
      "outputs": [
        {
          "output_type": "stream",
          "text": [
            "Train Data Score: 0.8343527855843941\n",
            "Test Data Score: 0.8098859315589354\n"
          ],
          "name": "stdout"
        }
      ]
    },
    {
      "cell_type": "code",
      "metadata": {
        "id": "epvTM-Tcvpa-",
        "colab": {
          "base_uri": "https://localhost:8080/"
        },
        "outputId": "d0741b64-16ae-4264-f46a-e791a79c2dee"
      },
      "source": [
        "## ======== YOUR CODE HERE ======== ##\n",
        "\n",
        "## Print out Accuracy score for the new SVM\n",
        "\n",
        "print('Accuracy Score: ',accuracy_score(y_test,y_pred_svm))\n",
        "\n",
        "## ================================ ##"
      ],
      "execution_count": 28,
      "outputs": [
        {
          "output_type": "stream",
          "text": [
            "Accuracy Score:  0.8098859315589354\n"
          ],
          "name": "stdout"
        }
      ]
    },
    {
      "cell_type": "markdown",
      "metadata": {
        "id": "wwVQ1LTKvpa-"
      },
      "source": [
        "<h1 style=\"background-color:#ABFF9B;font-size:20px;color:#00033E;font-weight : bold\">Calculate Average Cross-Val score for the new SVM with 5 folds  :</h1> "
      ]
    },
    {
      "cell_type": "code",
      "metadata": {
        "id": "jC0bK5Fsvpa-",
        "colab": {
          "base_uri": "https://localhost:8080/"
        },
        "outputId": "45f97431-0ed9-428c-e17b-510b776a4bd2"
      },
      "source": [
        "## ======== YOUR CODE HERE ======== ##\n",
        "\n",
        "## Find mean for the calculated CV scores\n",
        "\n",
        "scores = cross_val_score(clf_svm_new, X_train_scaled, y_train, cv = 5)\n",
        "print('Cross-validation scores:{}'.format(scores))\n",
        "\n",
        "print('Average cross-validation score: {}'.format(scores.mean()))\n",
        "\n",
        "\n",
        "## ================================ ##"
      ],
      "execution_count": 29,
      "outputs": [
        {
          "output_type": "stream",
          "text": [
            "Cross-validation scores:[0.81432507 0.80523416 0.81620281 0.81344723 0.80986498]\n",
            "Average cross-validation score: 0.8118148493122817\n"
          ],
          "name": "stdout"
        }
      ]
    },
    {
      "cell_type": "markdown",
      "metadata": {
        "id": "QxWC2wNLvpa-"
      },
      "source": [
        "<br>\n",
        "<h1 style = \"font-size:30px; font-family:Brush Script MT ; font-weight : bold; color : #0331A8; text-align: center; border-radius: 10px 10px;\">The End</h1>\n",
        "<br>"
      ]
    }
  ]
}