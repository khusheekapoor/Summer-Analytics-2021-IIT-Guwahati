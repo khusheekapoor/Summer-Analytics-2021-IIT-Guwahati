{
  "nbformat": 4,
  "nbformat_minor": 0,
  "metadata": {
    "colab": {
      "name": "Week_6.ipynb",
      "provenance": [],
      "collapsed_sections": []
    },
    "kernelspec": {
      "name": "python3",
      "display_name": "Python 3"
    },
    "language_info": {
      "name": "python"
    }
  },
  "cells": [
    {
      "cell_type": "markdown",
      "metadata": {
        "id": "X0AFZRenYa-F"
      },
      "source": [
        "# Problem Statement\n",
        "\n",
        "Let's take a case where an advertiser on the platform (DeltaX) would like to estimate the performance of their campaign in the future.\n",
        "\n",
        "Imagine it is the first day of March and you are given the past performance data of ads between 1st August to 28th Feb. You are now tasked to predict an ad's future performance (revenue) between March 1st and March 15th. Well, it is now time for you to put on your problem-solving hats and start playing with the data provided under the \"data\" section."
      ]
    },
    {
      "cell_type": "code",
      "metadata": {
        "id": "s81Cy2uN6btN"
      },
      "source": [
        "# importing libraries for EDA\n",
        "import pandas as pd\n",
        "import numpy as np"
      ],
      "execution_count": 1,
      "outputs": []
    },
    {
      "cell_type": "code",
      "metadata": {
        "id": "0tYriYQE6gww"
      },
      "source": [
        "# reading the training dataset\n",
        "data = pd.read_csv('Train_Data.csv')"
      ],
      "execution_count": 2,
      "outputs": []
    },
    {
      "cell_type": "code",
      "metadata": {
        "colab": {
          "base_uri": "https://localhost:8080/",
          "height": 203
        },
        "id": "xS9daVJf6xH1",
        "outputId": "937335a8-8ff0-419a-fc24-1722afbbe384"
      },
      "source": [
        "# basic EDA\n",
        "data.head()"
      ],
      "execution_count": 3,
      "outputs": [
        {
          "output_type": "execute_result",
          "data": {
            "text/html": [
              "<div>\n",
              "<style scoped>\n",
              "    .dataframe tbody tr th:only-of-type {\n",
              "        vertical-align: middle;\n",
              "    }\n",
              "\n",
              "    .dataframe tbody tr th {\n",
              "        vertical-align: top;\n",
              "    }\n",
              "\n",
              "    .dataframe thead th {\n",
              "        text-align: right;\n",
              "    }\n",
              "</style>\n",
              "<table border=\"1\" class=\"dataframe\">\n",
              "  <thead>\n",
              "    <tr style=\"text-align: right;\">\n",
              "      <th></th>\n",
              "      <th>date</th>\n",
              "      <th>campaign</th>\n",
              "      <th>adgroup</th>\n",
              "      <th>ad</th>\n",
              "      <th>impressions</th>\n",
              "      <th>clicks</th>\n",
              "      <th>cost</th>\n",
              "      <th>conversions</th>\n",
              "      <th>revenue</th>\n",
              "    </tr>\n",
              "  </thead>\n",
              "  <tbody>\n",
              "    <tr>\n",
              "      <th>0</th>\n",
              "      <td>01-08-2020</td>\n",
              "      <td>campaign 1</td>\n",
              "      <td>adgroup 1</td>\n",
              "      <td>ad 1</td>\n",
              "      <td>24</td>\n",
              "      <td>6</td>\n",
              "      <td>0.08</td>\n",
              "      <td>0</td>\n",
              "      <td>0.00</td>\n",
              "    </tr>\n",
              "    <tr>\n",
              "      <th>1</th>\n",
              "      <td>01-08-2020</td>\n",
              "      <td>campaign 1</td>\n",
              "      <td>adgroup 2</td>\n",
              "      <td>ad 1</td>\n",
              "      <td>1</td>\n",
              "      <td>0</td>\n",
              "      <td>0.00</td>\n",
              "      <td>0</td>\n",
              "      <td>0.00</td>\n",
              "    </tr>\n",
              "    <tr>\n",
              "      <th>2</th>\n",
              "      <td>01-08-2020</td>\n",
              "      <td>campaign 1</td>\n",
              "      <td>adgroup 3</td>\n",
              "      <td>ad 1</td>\n",
              "      <td>13</td>\n",
              "      <td>4</td>\n",
              "      <td>0.04</td>\n",
              "      <td>0</td>\n",
              "      <td>0.00</td>\n",
              "    </tr>\n",
              "    <tr>\n",
              "      <th>3</th>\n",
              "      <td>01-08-2020</td>\n",
              "      <td>campaign 1</td>\n",
              "      <td>adgroup 4</td>\n",
              "      <td>ad 1</td>\n",
              "      <td>5</td>\n",
              "      <td>4</td>\n",
              "      <td>0.08</td>\n",
              "      <td>0</td>\n",
              "      <td>0.00</td>\n",
              "    </tr>\n",
              "    <tr>\n",
              "      <th>4</th>\n",
              "      <td>01-08-2020</td>\n",
              "      <td>campaign 1</td>\n",
              "      <td>adgroup 1</td>\n",
              "      <td>ad 2</td>\n",
              "      <td>247</td>\n",
              "      <td>126</td>\n",
              "      <td>1.29</td>\n",
              "      <td>4</td>\n",
              "      <td>925.71</td>\n",
              "    </tr>\n",
              "  </tbody>\n",
              "</table>\n",
              "</div>"
            ],
            "text/plain": [
              "         date    campaign    adgroup    ad  ...  clicks  cost  conversions  revenue\n",
              "0  01-08-2020  campaign 1  adgroup 1  ad 1  ...       6  0.08            0     0.00\n",
              "1  01-08-2020  campaign 1  adgroup 2  ad 1  ...       0  0.00            0     0.00\n",
              "2  01-08-2020  campaign 1  adgroup 3  ad 1  ...       4  0.04            0     0.00\n",
              "3  01-08-2020  campaign 1  adgroup 4  ad 1  ...       4  0.08            0     0.00\n",
              "4  01-08-2020  campaign 1  adgroup 1  ad 2  ...     126  1.29            4   925.71\n",
              "\n",
              "[5 rows x 9 columns]"
            ]
          },
          "metadata": {
            "tags": []
          },
          "execution_count": 3
        }
      ]
    },
    {
      "cell_type": "code",
      "metadata": {
        "colab": {
          "base_uri": "https://localhost:8080/"
        },
        "id": "Bj27j-iTvk54",
        "outputId": "c0d9f9fc-edc8-4897-8244-14d6aedc979f"
      },
      "source": [
        "# basic EDA\n",
        "data.shape"
      ],
      "execution_count": 4,
      "outputs": [
        {
          "output_type": "execute_result",
          "data": {
            "text/plain": [
              "(4571, 9)"
            ]
          },
          "metadata": {
            "tags": []
          },
          "execution_count": 4
        }
      ]
    },
    {
      "cell_type": "code",
      "metadata": {
        "colab": {
          "base_uri": "https://localhost:8080/"
        },
        "id": "mY1p2HIm650e",
        "outputId": "7825bae2-6bea-4ba1-99ab-5ab0fc77a6ab"
      },
      "source": [
        "# basic EDA\n",
        "data.columns"
      ],
      "execution_count": 5,
      "outputs": [
        {
          "output_type": "execute_result",
          "data": {
            "text/plain": [
              "Index(['date', 'campaign', 'adgroup', 'ad', 'impressions', 'clicks', 'cost',\n",
              "       'conversions', 'revenue'],\n",
              "      dtype='object')"
            ]
          },
          "metadata": {
            "tags": []
          },
          "execution_count": 5
        }
      ]
    },
    {
      "cell_type": "code",
      "metadata": {
        "colab": {
          "base_uri": "https://localhost:8080/"
        },
        "id": "5UxEeuhQ7FhU",
        "outputId": "73aecba2-8571-479a-ce2c-b192e2393ed7"
      },
      "source": [
        "# basic EDA\n",
        "data.dtypes"
      ],
      "execution_count": 6,
      "outputs": [
        {
          "output_type": "execute_result",
          "data": {
            "text/plain": [
              "date            object\n",
              "campaign        object\n",
              "adgroup         object\n",
              "ad              object\n",
              "impressions      int64\n",
              "clicks           int64\n",
              "cost           float64\n",
              "conversions      int64\n",
              "revenue        float64\n",
              "dtype: object"
            ]
          },
          "metadata": {
            "tags": []
          },
          "execution_count": 6
        }
      ]
    },
    {
      "cell_type": "code",
      "metadata": {
        "colab": {
          "base_uri": "https://localhost:8080/"
        },
        "id": "imIInrxQJcNG",
        "outputId": "8948c8c3-02c8-40e5-ccb0-a45379c8d524"
      },
      "source": [
        "# checking for missing values\n",
        "data.isnull().sum()"
      ],
      "execution_count": 7,
      "outputs": [
        {
          "output_type": "execute_result",
          "data": {
            "text/plain": [
              "date           0\n",
              "campaign       0\n",
              "adgroup        0\n",
              "ad             0\n",
              "impressions    0\n",
              "clicks         0\n",
              "cost           0\n",
              "conversions    0\n",
              "revenue        0\n",
              "dtype: int64"
            ]
          },
          "metadata": {
            "tags": []
          },
          "execution_count": 7
        }
      ]
    },
    {
      "cell_type": "code",
      "metadata": {
        "id": "ebK8rRuyQ_8a"
      },
      "source": [
        "# engineering features to improve the accuracy\n",
        "data['CTR'] = data['clicks']/data.loc[data['impressions']>0, 'impressions']\n",
        "data['CPC'] = data['clicks']/data.loc[data['cost']>0, 'cost']\n",
        "data['CPA'] = data['cost']/data.loc[data['conversions']>0, 'conversions']\n",
        "data['CIE'] = data['conversions']/data.loc[data['impressions']>0, 'impressions']\n",
        "data['CCE'] = data['conversions']/data.loc[data['clicks']>0, 'clicks']\n",
        "data['CCI'] = data['impressions']/data.loc[data['cost']>0, 'cost']\n",
        "\n",
        "# data.loc is used to prevent infinite value calculation\n",
        "# missing values generated will be imputed in the preprocessor pipeline"
      ],
      "execution_count": 8,
      "outputs": []
    },
    {
      "cell_type": "code",
      "metadata": {
        "id": "PDNOGsjeq6NL"
      },
      "source": [
        "# engineering feature to replace the target variable\n",
        "data['ROI'] = data.loc[data['revenue']>0,'revenue']/data.loc[data.cost>0, 'cost']"
      ],
      "execution_count": 9,
      "outputs": []
    },
    {
      "cell_type": "code",
      "metadata": {
        "id": "LRV7339Ttm9Y"
      },
      "source": [
        "# filling missing values in the new target variable\n",
        "data.ROI.fillna(value=0,inplace=True)"
      ],
      "execution_count": 10,
      "outputs": []
    },
    {
      "cell_type": "code",
      "metadata": {
        "id": "tp6hBJya7FWT"
      },
      "source": [
        "# splitting the dependent and independent variables in the dataset\n",
        "y = data.ROI\n",
        "X = data.drop(columns=['date','revenue','ROI'])"
      ],
      "execution_count": 11,
      "outputs": []
    },
    {
      "cell_type": "code",
      "metadata": {
        "id": "RN8dX6EK7_cj"
      },
      "source": [
        "# splitting the training dataset for evaluating the model\n",
        "from sklearn.model_selection import train_test_split\n",
        "X_train_full, X_valid_full, y_train, y_valid = train_test_split(X, y, random_state=9)"
      ],
      "execution_count": 12,
      "outputs": []
    },
    {
      "cell_type": "code",
      "metadata": {
        "id": "onH5OvLUFVfH"
      },
      "source": [
        "# selecting the categorical columns with relatively low cardinality\n",
        "categorical_cols = [cname for cname in X_train_full.columns if X_train_full[cname].nunique() < 10 and  X_train_full[cname].dtype == \"object\"]"
      ],
      "execution_count": 13,
      "outputs": []
    },
    {
      "cell_type": "code",
      "metadata": {
        "id": "gZ7WT9_-FXeA"
      },
      "source": [
        "# selecting the numerical columns\n",
        "numerical_cols = [cname for cname in X_train_full.columns if X_train_full[cname].dtype in ['int64', 'float64']]"
      ],
      "execution_count": 14,
      "outputs": []
    },
    {
      "cell_type": "code",
      "metadata": {
        "id": "5tOQb_c9FY-g"
      },
      "source": [
        "# keeping the selected columns only\n",
        "my_cols = categorical_cols + numerical_cols\n",
        "X_train = X_train_full[my_cols].copy()\n",
        "X_valid = X_valid_full[my_cols].copy()"
      ],
      "execution_count": 15,
      "outputs": []
    },
    {
      "cell_type": "code",
      "metadata": {
        "id": "9Me47ip5FbPe"
      },
      "source": [
        "# importing libraries for preprocessing\n",
        "from sklearn.compose import ColumnTransformer\n",
        "from sklearn.pipeline import Pipeline\n",
        "from sklearn.impute import SimpleImputer\n",
        "from sklearn.preprocessing import RobustScaler\n",
        "from sklearn.preprocessing import OneHotEncoder\n",
        "\n",
        "# scaling the numerical columns and imputing the missing values\n",
        "numerical_transformer = Pipeline(steps = [\n",
        "    ('scaler', RobustScaler()),   \n",
        "    ('imputer', SimpleImputer(strategy='mean')),\n",
        "])\n",
        "\n",
        "# one-hot encoding the categorical columns and imputing the missing values\n",
        "categorical_transformer = Pipeline(steps=[\n",
        "    ('onehot', OneHotEncoder(handle_unknown='ignore')),\n",
        "    ('imputer', SimpleImputer(strategy='median')),\n",
        "])\n",
        "\n",
        "# bundle preprocessing for numerical and categorical data\n",
        "preprocessor = ColumnTransformer(\n",
        "    transformers=[\n",
        "        ('num', numerical_transformer, numerical_cols),\n",
        "        ('cat', categorical_transformer, categorical_cols),\n",
        "      ])"
      ],
      "execution_count": 16,
      "outputs": []
    },
    {
      "cell_type": "code",
      "metadata": {
        "id": "GwSV3y7t-rBn"
      },
      "source": [
        "# building model for prediction\n",
        "from xgboost import XGBRFRegressor\n",
        "xgbrfr = XGBRFRegressor(max_depth=8, random_state=22)"
      ],
      "execution_count": 17,
      "outputs": []
    },
    {
      "cell_type": "code",
      "metadata": {
        "colab": {
          "base_uri": "https://localhost:8080/"
        },
        "id": "OV4qWI47Fjie",
        "outputId": "1adffa71-0f5f-4ceb-8f6e-72c4fca04a87"
      },
      "source": [
        "from sklearn.metrics import mean_squared_error\n",
        "from math import sqrt\n",
        "\n",
        "# bundle preprocessing and modeling code in a pipeline\n",
        "my_pipeline = Pipeline(steps=[('preprocessor', preprocessor), \n",
        "                              ('xgbrfr', xgbrfr)\n",
        "                             ])\n",
        "\n",
        "# preprocessing of training data from training dataset and fitting the model \n",
        "my_pipeline.fit(X_train, y_train)\n",
        "\n",
        "# evaluating the model using testing data from training dataset\n",
        "score = sqrt(mean_squared_error(y_valid, my_pipeline.predict(X_valid)))\n",
        "print('Score:',score)"
      ],
      "execution_count": 18,
      "outputs": [
        {
          "output_type": "stream",
          "text": [
            "[14:14:40] WARNING: /workspace/src/objective/regression_obj.cu:152: reg:linear is now deprecated in favor of reg:squarederror.\n",
            "Score: 347.3386143859124\n"
          ],
          "name": "stdout"
        }
      ]
    },
    {
      "cell_type": "code",
      "metadata": {
        "id": "T21h2Xpvq0Ih"
      },
      "source": [
        "# reading the testing dataset\n",
        "df = pd.read_csv('Test_Data.csv')"
      ],
      "execution_count": 19,
      "outputs": []
    },
    {
      "cell_type": "code",
      "metadata": {
        "id": "-XR7uQwzrLkc",
        "colab": {
          "base_uri": "https://localhost:8080/",
          "height": 203
        },
        "outputId": "b9cc42f7-afa1-436a-bd74-16a14b4785ab"
      },
      "source": [
        "df.head()"
      ],
      "execution_count": 20,
      "outputs": [
        {
          "output_type": "execute_result",
          "data": {
            "text/html": [
              "<div>\n",
              "<style scoped>\n",
              "    .dataframe tbody tr th:only-of-type {\n",
              "        vertical-align: middle;\n",
              "    }\n",
              "\n",
              "    .dataframe tbody tr th {\n",
              "        vertical-align: top;\n",
              "    }\n",
              "\n",
              "    .dataframe thead th {\n",
              "        text-align: right;\n",
              "    }\n",
              "</style>\n",
              "<table border=\"1\" class=\"dataframe\">\n",
              "  <thead>\n",
              "    <tr style=\"text-align: right;\">\n",
              "      <th></th>\n",
              "      <th>date</th>\n",
              "      <th>campaign</th>\n",
              "      <th>adgroup</th>\n",
              "      <th>ad</th>\n",
              "      <th>cost</th>\n",
              "      <th>impressions</th>\n",
              "      <th>clicks</th>\n",
              "      <th>conversions</th>\n",
              "    </tr>\n",
              "  </thead>\n",
              "  <tbody>\n",
              "    <tr>\n",
              "      <th>0</th>\n",
              "      <td>01-03-2021</td>\n",
              "      <td>campaign 1</td>\n",
              "      <td>adgroup 1</td>\n",
              "      <td>ad 1</td>\n",
              "      <td>0.58</td>\n",
              "      <td>121</td>\n",
              "      <td>49</td>\n",
              "      <td>1</td>\n",
              "    </tr>\n",
              "    <tr>\n",
              "      <th>1</th>\n",
              "      <td>01-03-2021</td>\n",
              "      <td>campaign 1</td>\n",
              "      <td>adgroup 3</td>\n",
              "      <td>ad 1</td>\n",
              "      <td>0.17</td>\n",
              "      <td>22</td>\n",
              "      <td>12</td>\n",
              "      <td>0</td>\n",
              "    </tr>\n",
              "    <tr>\n",
              "      <th>2</th>\n",
              "      <td>01-03-2021</td>\n",
              "      <td>campaign 1</td>\n",
              "      <td>adgroup 4</td>\n",
              "      <td>ad 1</td>\n",
              "      <td>0.05</td>\n",
              "      <td>5</td>\n",
              "      <td>3</td>\n",
              "      <td>0</td>\n",
              "    </tr>\n",
              "    <tr>\n",
              "      <th>3</th>\n",
              "      <td>01-03-2021</td>\n",
              "      <td>campaign 1</td>\n",
              "      <td>adgroup 2</td>\n",
              "      <td>ad 1</td>\n",
              "      <td>0.01</td>\n",
              "      <td>2</td>\n",
              "      <td>1</td>\n",
              "      <td>0</td>\n",
              "    </tr>\n",
              "    <tr>\n",
              "      <th>4</th>\n",
              "      <td>01-03-2021</td>\n",
              "      <td>campaign 1</td>\n",
              "      <td>adgroup 2</td>\n",
              "      <td>ad 2</td>\n",
              "      <td>0.01</td>\n",
              "      <td>3</td>\n",
              "      <td>1</td>\n",
              "      <td>0</td>\n",
              "    </tr>\n",
              "  </tbody>\n",
              "</table>\n",
              "</div>"
            ],
            "text/plain": [
              "         date    campaign    adgroup  ... impressions  clicks  conversions\n",
              "0  01-03-2021  campaign 1  adgroup 1  ...         121      49            1\n",
              "1  01-03-2021  campaign 1  adgroup 3  ...          22      12            0\n",
              "2  01-03-2021  campaign 1  adgroup 4  ...           5       3            0\n",
              "3  01-03-2021  campaign 1  adgroup 2  ...           2       1            0\n",
              "4  01-03-2021  campaign 1  adgroup 2  ...           3       1            0\n",
              "\n",
              "[5 rows x 8 columns]"
            ]
          },
          "metadata": {
            "tags": []
          },
          "execution_count": 20
        }
      ]
    },
    {
      "cell_type": "code",
      "metadata": {
        "id": "_ONnE1rmR7kC"
      },
      "source": [
        "# engineering features to improve the accuracy\n",
        "df['CTR'] = df['clicks']/df.loc[df['impressions']>0, 'impressions']\n",
        "df['CPC'] = df['cost']/df.loc[df['clicks']>0, 'clicks']\n",
        "df['CPA'] = df['cost']/df.loc[df['conversions']>0, 'conversions']\n",
        "df['CIE'] = df['conversions']/df.loc[df['impressions']>0, 'impressions']\n",
        "df['CCE'] = df['conversions']/df.loc[df['clicks']>0, 'clicks']\n",
        "df['CCI'] = df['cost']/df.loc[df['impressions']>0, 'impressions']"
      ],
      "execution_count": 21,
      "outputs": []
    },
    {
      "cell_type": "code",
      "metadata": {
        "id": "Bsla9PFEq8hO",
        "colab": {
          "base_uri": "https://localhost:8080/"
        },
        "outputId": "9724344e-1deb-4aab-e355-a589e8452b00"
      },
      "source": [
        "# predicting the target variable\n",
        "ROI = my_pipeline.predict(df)"
      ],
      "execution_count": 22,
      "outputs": [
        {
          "output_type": "stream",
          "text": [
            "/usr/local/lib/python3.7/dist-packages/sklearn/compose/_column_transformer.py:430: FutureWarning: Given feature/column names or counts do not match the ones for the data given during fit. This will fail from v0.24.\n",
            "  FutureWarning)\n"
          ],
          "name": "stderr"
        }
      ]
    },
    {
      "cell_type": "code",
      "metadata": {
        "id": "3HX3ft7ztjat"
      },
      "source": [
        "# calculating actual target variable from prediction\n",
        "dfr=pd.DataFrame([ROI])\n",
        "dfr=dfr.T\n",
        "dfr.columns=(['ROI'])\n",
        "dfr['revenue'] = dfr.loc[dfr.ROI>0, 'ROI']*df.loc[df.cost>0,'cost']\n",
        "dfr.revenue.fillna(value=0, inplace=True)\n",
        "\n",
        "# formatting the predictions to specified format of submission\n",
        "dfr.index=dfr['revenue']\n",
        "dfr=dfr.drop(columns=['revenue','ROI'])"
      ],
      "execution_count": 23,
      "outputs": []
    },
    {
      "cell_type": "code",
      "metadata": {
        "id": "0nvTnfuktt04"
      },
      "source": [
        "# saving the predictions as a csv file.\n",
        "dfr.to_csv('submission.csv')"
      ],
      "execution_count": 24,
      "outputs": []
    },
    {
      "cell_type": "markdown",
      "metadata": {
        "id": "Q6Z9X0HUnCxX"
      },
      "source": [
        "#### Final Rank on Private Leaderboard with RMSE."
      ]
    },
    {
      "cell_type": "markdown",
      "metadata": {
        "id": "hDxQLUsenwEV"
      },
      "source": [
        "![image.png](data:image/png;base64,iVBORw0KGgoAAAANSUhEUgAAAuQAAABsCAYAAAAi2Kf5AAAgAElEQVR4Ae2d93cT55rH73+xP+/Zn3bP3rP37k3u3puEJIROIOECCaEYgzHVFAMh1NBMCSShh46x6aYT0wIhdAihdzAGDLaxMVavMyPpu+eZkSzZ2CBXyfLX5wyyrNFo9L6fmfm8D88875+cTi+4sA3IABkgA2SADJABMkAGyEBsGPhTSUkpuLANyAAZIANkgAyQATJABshAbBj4k6ICXNgGZIAMkAEyQAbIABkgA2QgNgz8yasEwIVtQAbIABkgA2SADJABMkAGYsMAhZwDEg7IyAAZIANkgAyQATJABmLIAIU8ho3PUWhsRqFsd7Y7GSADZIAMkAEyEE8MUMgp5BwRkwEyQAbIABkgA2SADMSQAQp5DBs/nkZm3BdGCsgAGSADZIAMkAEyEBsGKOQUco6IyQAZIANkgAyQATJABmLIAIU8ho3PUWhsRqFsd7Y7GSADZIAMkAEyEE8MUMgp5BwRkwEyQAbIABkgA2SADMSQAQp5DBs/nkZm3BdGCsgAGSADZIAMkAEyEBsGKOQUco6IyQAZIANkgAyQATJABmLIAIU8ho3PUWhsRqFsd7Y7GSADZIAMkAEyEE8MUMgp5BwRkwEyQAbIABkgA2SADMSQAQp5DBs/nkZm3BdGCsgAGSADZIAMkAEyEBsGKOQUco6IyQAZIANkgAyQATJABmLIAIU8ho3PUWhsRqFsd7Y7GSADZIAMkAEyEE8MUMgp5BwRkwEyQAbIABkgA2SADMSQAQp5DBs/nkZm3BdGCsgAGSADZIAMkAEyEBsGKOQUco6IyQAZIANkgAyQATJABmLIAIU8ho3PUWhsRqFsd7Y7GSADZIAMkAEyEE8MUMgp5BwRkwEyQAbIABkgA2SADMSQAQp5DBs/nkZm3JfaRQoUFREnLqDy8/C25O9KDYzpr6nhdcN9YGxP1eSxutfDf5Nt1LSesX1jW5V/D78//Jn8G9uCDJABMkAGyECsGKCQ1yBLseoQfm4zOBkEJTjUV4ouzpGCHoD8zRcAfH5ArSrVqvF347XX3+cPAJoagMcbgOoH/P7XpT60/dB6WtX1ZB99gFbNIgIf2nc+NgPeeI4ir2SADJCBhGeAQk7IEx7yhpRORQvA/qoIN87eRYkLEBG2FNzFlduP8dIBaFpA/xvgQ2n+HZw4eBo3HpvhDkq1CDYQQNnTBzh58CSuPngFZ8AQboli+zUNL/KuYF/2SixZth67fr2Dp2YNPh+gBlnVZVxTUfLgOvZnr8YPK9bhwKn7eGEN6AMAfZ+ePcTp/Xuxe08u9u/Nxb69udi/7yAO7D+Ji1cLYa1G8huynbgtij4ZIANkgAyQgegZoJBTyCnk0TIgwuzXUHh+ByaNzUGeKnLtx9WsOVi06mc8ceuuDbelBBf2ZWLK0C/Q9qMU/LDrLpwAfCrgsZfhyuEtmJ72FTp8lITZmVdhC77m82l4fHwDRiX1xYjxkzFrxhSkD+yD1Okbcb1ERUDEXT7TryDv1w0Yn5KM4d9MwYyZkzFqUBJS5+zBQ7PoPlBy/SgWfz0YQ0eOwejRYzB6TDrSRw9Hz47/QlrGMZTJZ0b7vbkejxEyQAbIABkgA43KAIWcgDUqYIk0OlbEvwEUHF+GEWuvBZ+5cWzhYqzZfhea/MXrwoVNEzEofQGyt27CzGGjMHvzLV3IA4qKa7tmYMiY2Vi/aRu+Gz0Sk1f9oQt5wA84n5/DzIFfYWLmFVh9xubVF1exZFQfTNx0Ca8UQ7ad+aexKC0Fs3fn6duVNR0Pj2BC/y8wbe8TKJImoxnRe0l/kdQZ+fEWX8a8tGRk7H0C8fqactsTqc/4XaKPzrCt2FZkgAyQgdgxQCGnkFPIo2BA9QVge3QW29Ytw9T0JHQfNQs//bQSq1YtQHq/QUgdOR1LD15FmcmFvAtHcU1C0NabWDJ8JGZuvg0XAM2t6K9dKlYBVx7WjR2Jiasu60IOP/Dq3HokJX+HU/LeYDRcXPrRvqno/80K3CiVZwpu7F6CMaPW4K4+AjBkW/7Nv/gLDv1RALfcSBq5+ICAT8WlLZORPHolbtslNYZ55LzwxO7Cw7Zn25MBMkAGKjNAIY9CxghNZWhaYnsoPsDx+BJ2Zi7A6D7/wvh5G5CVvQMbvp+CvkNTMXH+amw7fg9ljrAg+0v+wI9BIZeUFU2RzHLjJ1B+G6vT08JC7gPKzqxD/wE/4pzJEHJVT4kB7u2agr7dJ+HoMwl7l+HIsukYv/wM8h4cx5r5MzDt2zn4fuNxI2Xmtci3ESmX6PuM1P5YeLhY3wdGx8l0SzyO+Z3JPRkgA/HKAIWcQs4IeVQMSLY4APcDZI2ZhaPPDLH2P9yPBcsX4fQL47mIrkcJ6Ckhrwu5cSJUAkBVIZeUFUfBKczon4RJm67AKtvw+eF9cQPLx/dGmw8m4chzCXuX4dDKseg1OB1Tpk7GjxsOYM+ODZg8tD+GT8/BPbmxMyL6rd8o6tdwPnMc+o1bj/uMjpP3qHjnRTteL9rcL7JJBhKTAQo5L04UlKgY8MHt9qDk9gFMG7QcpwrtcLtduHdwCb5bsBznixSomh/eYIlD/d7L1yLkNQu53PDpU724f2gxUvoMQPqUH/DTinmYnD4BP877FklJi3H4iQdQTTj8fR+07j0OWy+8hMcYB8CcdwzTB/THxJx7ernDUP1yqeriefYbJqekYMmxYshgIPQaT+qJeVJnv7JfyQAZIAPNjwEKeVQy1vw6lgdjA/aZBvjtT3F0+zrMHT8Yn381HLN+WIrlK3/E1LSBSOo3AtMW78eVZ3bIjZ8SJa+1kCsBSFqM/JQ/+B3b16zG8jVbcOLGSxSdXYdhU1bjYrHcrVmG3LnD0X/qHhTJylIOUd7nU3B8SRIGzMrFS8lskYmL9JQXL06vHInkb7Jx32rUNCcbDcgGzx8c0JMBMkAGyEADMEAhb4BGpOAkuODIJD+WYpw/cQRLJvdH0qRFyNmbi0MHsjBjbDqGTVqGnOOX8eSVV5/Ipy5C7lcDcL56gvMnL6PAboi51BOXn0trxmD4ov14KvnpATsubMxA6viteCwvBqB/Jnw27JvTDwO+OwazJpMRAWoA8D7OxYSBqfjp1yJ4ghMOkdcE55XnNMoBGSADZKDZMUAhJ7TNDtqYCKVe0SSAM6uGY0HuYz0SDucjrF++CIuOFuviLGknoX2rbYRcL3tYeB6z+nTGqGUnUaJHt4HnFzdiRPIIrP+tCO6A5LEHUH77IGYNTsbsXXdg1ksaKrh7ZAVS/zUQP556Ab8P+kyhCNhwfHEaUqZsxj1LQK9jHto/PlLKyQAZIANkgAzEDwMUcgp5hUTywKz5wJTZMVVvPjamjcSG06W6kHvzjmPhd98g64pXF/LI9tOF/MVFzB+YismZN/V64VqQNf2mzlc3sWzYIKQv/b1iYiDNpyH/ZCYm9O+DweNnIOPbCUhNHoaZmy+hzAv4fQF4ZWDgc+HeLysxbnAqRn4zC7OmjUe/L5Mxc8M5lHiN6LjUHjdd34K0foOw8kSRvr9aML89cj/5e819zrZh25ABMkAGyEBTMUAhp5BTyKNhQA1A8dqQfzUPz8sVKFoAbnMp8h7eQ5FVJuKpfNKS1xWnBQ+v38bdAhs88jz0OWoAqsuG/Ju3cSvfAnfwNZF+fyCAF3ev4MiBn7F7z0H8eukJzB5AIuihk4Lkmktd8cK7V3B03wHs3nMEJy7lw6SItBvryf5YCh/i0tWHKLUHoFXZv9C2+Fi539gebA8yQAbIABmIBQMU8pAk8bFC+GIBYvP4TGOmzJD06tFqmcm+JtkNpp1I+Py176ca23rttYi/62F3CYhHlDGs2E4161Wd7Edm7JSfiv0l46/3A9uEbUIGyAAZIANxwACFPA46oUKyuC88KdSFAaaikJu6cMP3kBsyQAbIQNwwQCEnjHEDIwcm/G9CMkAGyAAZIANkoCUyQCGnkFPIyQAZIANkgAyQATJABmLIAIU8ho3fEkeA/M6MfJABMkAGyAAZIANkoDIDFHIKOUfEZIAMkAEyQAbIABkgAzFkgEIew8bn6LDy6LCltIei+KGoPn1RVQ2vL8Zrsk5LaRN+z5Z5LLDf2e9kgAyQAYMBCjmFnNLX6Az4oSg+qKoPqqbVfhF5V0TO/eyrRu8rXhx5cSQDZIAMkIGmZ4BCzgs8Ja/RGDBEXBMJV1V4FS88Hg88HnlU4PGocNewyGvGOh54vV4oigJjO1pQzpv+ZMETNNucDJABMkAGyEDjMEAhbzQZa5wO44HQHNo1GBEPirhIuNPphNVqhdlsrvVisVhgt9vhdrvh9Sq63Euai6S+kIfmwAP3kZySATJABsjAmxlocCFXVECmAFc1QH5/awfI+rJQjN/eVmyjuG8jRfUHc8Ilwu2B3e6A2WyByWSqtYhXkvfg+202G1wuFxRF1SPmRp45xfyt5xkeO3F/7LAP33yxZvuwferOQNCzappELuhhNW6/tl4XPN9G64NV16vqg/rrIVes+phA5/YGFHJADU7VrXoD8HgC8AEIBASEag4kLTQxeOVHrbp1E6jBawSe37FZC0PoRk1JTVEUL5xOFywWa/1FvEpEPST2NrtdF35NU/UBAKPl1ZxjeEw162OK50oyTQbqy4ARIA2qmS5baqRjqYDqAwJBDfP7qwZRw16nKX543AFogTd4XcU5F+H1PD54PMZn6D5YsY58t/D2DW/0V3hjxX6qQOT+VzZGkczECeg2kJBDb8Tye8exZEY6hg4dhZEjRmDUpLnYdqEYSpVOVgOA32PFnTMHsHF9JtasWocN2Tk4crUYThXw+eoLId/PE1lTMiBRcblpU4Xb7YXVaqtfNLyKhFeKlAdfM+mPFl38JVrOFJam7G9+Fs8vZIAMxDsDhhTDU47zu5Zj3JDBmJ51Ck+tgC7eQdF1Ft7E1sXfYMjgadhy+jFsfsAIjBpeZ3tyCeszxmLosJFIG5GGtHGzsencc3h9gFpdFoQqwu5H8ZWDmPf1KAxPG2344JSlOHTLqvugIdtBb7z/G5bNkO2LN8r2pyPz18dwyH74Af+rO1j/43QMGT4SY9LHVixjx36N0WnDsGjnBRS7Ab8W7/3x9v1rECH3BQIw3TmKOant0brHcHy3Jge7N6/FxP4d0abXOGSeLauI1CjSifYXOJs1AZ93bI1OfUZj2rfTMLh7W7TtnoL5uQ9h94iUVx2pvf3L8ATBNmp6BsIpKi6XOxgVf3ueuAi1zWKGx26GO2KR5y7b298vkh6KltvtTv2mTyM6z1KJTc8Ajzu2ORkgA/HEgDiUH68enMCySano0bUzWr3z3+gyZSvulBsxZs3rxK1D6zB+wJfo0vFDvPPn9pix4zrMAHyqIfPuoitYOe5zfNglCVMXbcH2zcswslcHtP08BStPlerCXCm9RCTf78eLa9sxsntndE0ah8WbfsaerO8x7MvO+LTXNBx6aNezKcQbLQ9PYuGQjvio20jMX7cL+3ZnYWZKZ7TtPhzLjz3XA70of4Cc9YswdfosZMyZg4yMuZi7YCGmjx+C9v/7n0j54RCeeWSn46n967Yv9RdyVTrXijNrxuH991Kx4WyJ0YgATHm/YnLHtkiZccAQchk5QUXB2UwkffAJ+s/ei3slNrhdCl4VXMDyIZ+hzaczcfypC5LRwgO8bp3Kdmu6dpMcbkkbkbxuufmyumh2dX+zWsx4/tKCKwUWXH8WXq4WWHC3yAJLFFHyyO3KTZ9SiYWR8qbrex5nbGsyQAbikQFJQ1Fs5fh5/hfoN3YB9uYexIIRbfDplG24ZxJnC8D07BQyuiVjwuIcHNy9AoNbd8CMnbdgEbeVNBbFhouZo9Hqs+FYe660IlPE9eQYpvbrj5HzjqLUJ9H0sKtJwFVzW3FwTme06T4Cu+6qejqMHwGYr2YjpUcnJK28AofujU78vmU62v6tH5YffQol+AnWgjOY/mkb9P16M/JE8FU/PB4f3KFF8cOvWXEucyzatxmBzPOlui+qlVJhmieXDSLkftWKm79sQsbqw7jz0shGkvxxzfoUa1PbIumbbRVCDp8LD35Zjv4pM5F1ya53gXS+/DzY9jW+atMHa6+YIAOeeASd+9Q8QW+MfpPa4IaMe/QbN83m6G/c1Jwm7Lxlw/9muvHRFlfF8vcsFwYfdMBhNcNiiS5SHhJzm82h3+wpUs6a5eS0MZjnNskVGYh/BqSwhtNmx52LZ1DgAlByGT8Mb41OEUJuLnuEi6eeww2g8NRaDP6oXYWQi8W5S+9hWUobDJy5Dy9F0JxmPH/+EmYP4CwuRN7DYpg8le8RlM9VXDZc2LkEKzYdw2M3EJCsCNlg+XlMHdANPRaehlW3bxcubZ6Ktv8chOwrhgvqIujKw+I+bfFV+kbkKZKKYhQJ0YKPso7j8SlM6/kh+mXsxWOnfEb890k0x039hVwflQRzlWRkJXk8+ugHKLmwGn3ad8OEtTcq5FpuPnM7XTBZ3bB7AkZ1FRFyfyn2ZyShU5dpOPrEBdlENF+A6yQGiM2vH41UFamkIpHxUPpISI7f9hgS8r9luvHxFlfF8n9ZLgypo5CbTGY4HE49l52zfPK4aH7HFPuMfUYGGoyBYNqJuLC/8CIWDosQcr3YRvhmyScnVmNQhJCL9Jryj2Nip96Y9NMR/H4mBzPTh6Bvn2SMyViFg1deGlHpyBtEKyLURm64bENy0T26fAfw+MD36Nnxc8w9UgCPD/D5AUv+CXyX3BtDpqzHiau3cPfudfy8diaSPh+B5Yfz4QkAkZFvicBDteHsmlR80jENWb9Lgg1v6qxZloM3CrgLTmP2oK7oOnoVLpXIpCjhA01GUdIZemK/Xm3Fg7zc+fiq62cYuvoiXrkAP3PIK7VZZPvx9zBLsWoLmXFTUkSkDGFtZVxkXYR81y0b3t3oxidbXRXLP7NdGHqobhHy0H5IvXKZRMiY3TP2bRWrPuLnsu/JABlo6QxIcNNXjZAb7WJUP3ldyI088CEdPkP33ikYNfYbLFy3BduzfsKEPu3wwRdjkfVHmX5zaKUc8gjPi9y+6dZBTO7RDgOnbsUDiw8+fzhw++jocnz54Xv4qEMXdOvWCe//vTXSFh+DniTjE6EPMWwMIKx5xzGua1skz92P514gkAA3c4YYbaAIebjBZADjLjiDOcO/QLtes/HLQ/n/khqi3bJywIkHx5ajd6eu6D/jZzyx+fVSiaEd5GOobfkYLyxI9FnVVDiczqhzxqtGzBtDyI3PMMFqswUnEGLqSrwww/3g+YsMkIFYMFBXIS+8vBUD3vsH2vcZj53XjEi0uFz53Z/xddcO6DVmO54okhVRg98FMyXKbvyCWV99jC5pi3Gu2Kh3LXXF/QE/nv9xCHOG9MPQaYuQc/gUTp04juzFE5E0YDyW5lyDqaLiSwASHfcrTpxekYx2n43ApsuSbJM40XFhowGF3Bi9uAvPYtHInmjXYxL2XjfXmGyv/9dDwI77Rxbhq/Yd0WfSDtw1i6EnVgPH4gDkZzbeiV9SriRH2+PxwlzlJk7J+3bbjCopUinlTQs8Juy7Y8M71UTIhx92QHUY1VfetI3I16rmm1ekriisusLjofGOB7Yt25YMxDcDdRNyoOxBLka/0x7D5x0xcshVQ4oDfg9yp/VAz6QMnDUZOeJ67njEzZ2htGXznWPI6NcOnVPn4bAkhAfTWKQUdsD8GFumdMH7faYi94FXf03+CVieYMvUz/B+70nY+8AoYC71yn0BwHp/P4Z06YQBGYdQImkvCRQdl+OogYTckHHXi0tYmt4X3b74Wv/v+FALSzH4yINWl3G/HTdzFyOpXXskf7sDd4I5/TLaMmZlim/II78Pf285fSXRcUVVgzNwhm+6lKooj15YcLvQgrtRLAWlZqy/bMf/ZVVOWXlvkwspuQ48LLbgXlF027pTaMHL8sibQE16+UUZNEhqDW/wbDl88lzEviYDZCCSgboKubP4GhZ+2Qa9J23HY6NWh6F0nmdYn/Y5ug9YgN9txsQ8csOlpBmrwXsIZXXzvWOYP7QLOg/9Ab9IuZTgj/ighF49zy5hYfJ/osuULcgP+rgRkg3g9ubR+HOXQVh8OpgjLttX7cid3xcdug3B1hvG9iK/ZyL83iBCrvp8sBX9gZXjv8LHrfthyaHbKCovR8mLlygsLEHxS2tYyCV/XDXjxs8/ovcnHZDy7VbctKjwi7SHytp4jZtEE6GB+R0S6eRoRMe9irdSiUORcYmMjz7igOSAt9ka/RKZPx75e7Tb+EQqtGx26eUTpYZ5KDVG8smdTidzySvyDxOJQ34XnlfJABmIjoG6CLnINTxWXMgcjY879cbMHVdRZLLDUlaE89tn49OPO2HYovN6zXLPyyc4uXsX9p55hHKZQ8bvx6t7v2LB0PZo1WMM1px8ivLycrwoLkVhUSmKXzr1mzoD1gLsnN0T73YcgmWH76LU6oXbaUPBjWP4bsBH+LDfdBzMV/QUZqnSYr29DYO6dkDynBMok1SWmlJlmvE5v/5CrqcEmfHrinR88O//gb+174G+AwZj0MBkJCcno0+vHhgzd60h5PqgxotHp1Yj6d0/439adcXACfOwYOF8zMmYg1mzZmFWxlzsvWqCKwEbmyeQ6E4g8dpORrqKCqercu54SMjTDjsgZQsjq6bU9LuUOmy9JXwzZ6SMt94a3TZk2yLjH2yqXsiNXHKvPotovLYp96t5HxPsP/YfGYhvBnQhf3YGs/r9Fe+N2YjbMjFQRdaCcVNn/tEl6PWXv2PC5mvhiYH8gLvsEXJm9kfrj1qj++CxGDOoJ1q16oTUaavxezAfvPhcNlL++W/4S9oG3JIa55odh+d8gv/+r7+gVbse6D8kFQMHiA/2R5+kARi54DCKpBwigNI7J7E47Uu07tAZfUdNxYxJo/FFl1Zo23M81h28D0mc0KPvrkJkfv05WnUZij33leBMo/Hd7nU5Luov5GoAmubCo8u/YfP6bGRlZWPD+kysCy6rV63CttwzFULu93vw+OJuzBiZjnETJmLChAkYN248xsqSPhZjx0/A9kuv4IzMR2rGI566dArfE58HmuSOq6oCq9VaEYmWiHRIyEcdceAf2dVLdqRwN+TvIvUfVhMhD0XKPcGKK0xbiU+meKyzX8gAGWhMBhRfAKq5CGdzN2PLr3dQ6hBnC7e55gugPP8q9mdtxW+3X8Ip6+vOFUwtMT/H6T2b8dOyFVi6fB027TuPfJk9SEoS+gJwlebjWE4mck5LhDwATfHiwdkcZGdvwsasbKwP+eC6DVizdiM2H76DV54AVM2QcmdJHn7ZsxUrl67A0iWrsHbTXvx28yUki0WfdEgLQLM+xtFdOdhy+CGsarBCXwJ6Yf2FXDHqTPpDCUI1PEYCJ7NIvemHJQ/DB0tku/H32LWLlHbSZ8FU1UrpKvEs5Hraistl1CVX/OG0sQQ8kfHYiN2xwbZn25OBOGfAKG6ia5dRG7zy/uoT9wSlrGoZQ7U6ufOH7wvU7wkMvldEXuqOV/eWSOeLrC0e+dk1rRO6SVRe18tlJ+g1rEGEvC4Ho3HjZugGzsqPddke31P5AGN7NGx7KKqRP64omn7DZCgCHY2QS3qKpJVUXSSyXV20XKLeVdfVn1ez/psj5CbYbHa9XrqqstoKj4mGPSbYnmxPMtByGGj0Yhuq4YEtmamYCXlLbnR+9+Z3EtNrj6uqPtmOxRJ9yorkeXfd6UKvvU58sSe8yPPPdr6eRy754+23u/BlxLryPnnec49Tv2E0UuLfLORSeSWyJnnza3ceK+wzMkAGyAAZaAkMUMgT9L8+WgK8TfkdQ0LuVXy1ipBLnfFN12zw2E16aUIpTyiL227CjpvVz9Q55JBDz1EvMxnryvoSic8vsaBLjpEzHpLytwu5BV6vlD9khLwpeeFnUSDIABkgA2SgNgxQyCnkzC2OgoGwkPuDQm6quLHzTTd1ipBvv2EDXCbYLOaKJeAyYc/t6oV82CGHXkbRbg2vL2UVi8pqL+Qi8h6PRy9/WJsTA9flhYQMkAEyQAbIQNMxQCGPQsYIZNMBGa9tXR8h33rdBp8zLPAiyZrTpE+e9W41M3UOPeSAzPoZOfumPH/2svZCLjd2UsjJb7weV9wvskkGyAAZMBigkFPIGSGPggEKOS8avGiQATJABsgAGWgsBijkUchYYzU+t9t8Duz6CPkOSVlxm/Sot0S6ZZHnu2/Z8D8b3Gi12VWxvLPRhdSDDnjtZjhtxrqyvjx/8ar2EXKmrDQfxng+YF+RATJABlouAxRyCjkj5FEwEBby2t3UKSkpG67YYDKbUVBqqVhemcz6TZ3ttrnQbZezYum43YkxRx16vrikqITeU1xmwZ0iCz7lTZ3kNQpeeVFvuRd19j37ngw0TwYo5Ly4UXCiYCAk5Eotq6xIGcOO2116dRSpkBJapBzi/DN2WC1ys2Z4KTeZcS7fig7bXfh0R3h9eZ/IeJutlWuXv73KCsse8uLUPC9O7Df2GxkgAy2JAQp5FDLWkoDgd63+BFifiYFEvmUSoMjlLxvcmHParqeuSDWV0KI5zbj81Ip/ZrvQalPl91Q3kdCbhdwEm50TA5Hp6plmu7BdyAAZIAPxwwCFnELOCHkUDMh0wqqqQVEVWCyWipKHkqP9prKHoXrhVR8llWXuabtebUW2EVo8djMuPbHqOeUi21XfV/X5m4RcKqw4XS6o+oRGfvZzFP3Mi1P8XJzYF+wLMkAGWhIDFHJepClqUTIgQq6qCqzW6GfqrCrQoedNIeRms4UlD6Ps25Z00ud3peSQATJABuKPAQo5L9gU8igZUBS/Hm12upwVEe1oIuTVpaz8dYMbGaeqj5D//qT6lJWPqomY1xQhl+i41WY3ZulUOUsnLz7xd/Fhn7BPyAAZIANhBijkUcoYoQlD03LbQoRcg1fxVkpbeVPKitzUqd+gmeNC5x3h5fxM21EAAAXzSURBVMPNbiw8a4daZcIgSVmRHHKpvtJpe3h9eW+nHa+nsLxJyCVdRdM0yI2oLbfPyC37ngyQATJABuKfAQo5hZyyVgsGpNqKoqqw28NR8jcJ+btZbqy/bIOUOXxSYqlYHpdYUFxWeTbOULS96rryvsKXFtwutEZZ9tAEi8UKj8cLVZMBBPPHeTGK/4sR+4h9RAbIQEtmgEJeCxlryaDwuxsnSiNtRYPHG46Sv0nI39noRnUTAzmtZtgs4Zs5Qzd1hqQ8NIFQ6LG2EwM5nc7gzZyMjpNdXuTJABkgA2Qg3hmgkFPIGSGvJQN6TXJN1SuYhATabTNj1BEH/pFdOa1EhHzrdRt8VVJTIgU8mt9FzGWiIKlHHln+8PWUFckdt0FRlGB6DaPj8X4S5v5RFMgAGSADZIBCXksZ40HDg0YYUDWfLr02mx1mswnxIORum6SqWOD2ePTccaaqkFWer8gAGSADZKB5MEAhp5AzQl4nBoI3eHo9ehlEl82EtMMOvJvlglRDCS1/zXRjy7WGi5DLjZ3vbwpvX6Ll8vzyUwtEyJ3OYN1xVlYh13XiunlcuCgY7CcyQAYSjQEKOS9aFJc6MiDVSzRNhdvtgdtuwZijDnyw2YX228PLP7Ld2H6j4YT8851GSkzoM6QayydbXLhaYIHmduh540YlGJ6sE+1kze9DpskAGSADicsAhbyOMsaDInEPitr0bUjKPW43npZacb/IgofF4UWeSzUVaw03cEaTPx7KUy83mZH3woIHEduX32Ux2xzQVCNvXG48rc134LpkmQyQATJABshAbBmgkFPIKW/1YsBIXZHp6TWvG267FU6rCU6bWV9cNqOaislcfUWVaIU8tJ5sV7apb99q0n9XXFJRRWRcZc3xevVlbE/GvBiy/ckAGSADLZcBCjkv4BTyejMgUu7ThVhqf9tstkozeYZkuiEfRfDlBk6Xy8gZlzQVRsZb7omcF3H2PRkgA2SgeTNAIa+3jDVvAHgAN1z/STlETY9SK/rNlRarFTKFfUOKuFR0ke3ZHA594h/JYTdyxpmmQpYbjmW2JduSDJABMtC0DFDIKeSMkDcgA6GJg0SSZfIgh8OpR7IbSsqlzKLb7YKiqHppQ8lhZ3nDpj1p8iLF9iYDZIAMkIGGZoBC3oAy1tCdw+013wNeRFmmrZe8bq/Hq6eWyIQ9dRFzSU2x6xFxT3DCH4mKSx10RsV5jDTfY4R9x74jA2SADIQZoJBTyBkhb0QGIsVcZs/0er1wud2w252QaLfVatUj6CLdsshzq9UGm82hp714PCLhXihy06imQWGuOHltRF55cQxfHNkWbAsyQAaakgEKOS9uFJxGZ8CvVz8xbvyUqLkRORfJVhVFj3qLrOvT3etT3qu6gEt03VhXouFMTWnKEyM/ixdiMkAGyAAZaEoGKOSNLmMEuimBbg6fJakmiiqLVGYJCXrko09/TdZpDt+H+8hjnAyQATJABshA/RigkFPIKX1kgAyQATJABsgAGSADMWSAQh7Dxudosn6jSbYf248MkAEyQAbIABlIBAYo5BRyjojJABkgA2SADJABMkAGYsgAhTyGjZ8IIzp+B0YmyAAZIANkgAyQATJQPwYo5BRyjojJABkgA2SADJABMkAGYsgAhTyGjc/RZP1Gk2w/th8ZIANkgAyQATKQCAxQyCnkHBGTATJABsgAGSADZIAMxJABCnkMGz8RRnT8DoxMkAEyQAbIABkgA2SgfgxQyCnkHBGTATJABsgAGSADZIAMxJABCnkMG5+jyfqNJtl+bD8yQAbIABkgA2QgERigkFPIOSImA2SADJABMkAGyAAZiCEDFPIYNn4ijOj4HRiZIANkgAyQATJABshA/RigkFPIOSImA2SADJABMkAGyAAZiCEDFPIYNj5Hk/UbTbL92H5kgAyQATJABshAIjBAIaeQc0RMBsgAGSADZIAMkAEyEEMGKOQxbPxEGNHxOzAyQQbIABkgA2SADJCB+jFAIaeQc0RMBsgAGSADZIAMkAEyEEMG/h9IxrsRaI8fsQAAAABJRU5ErkJggg==)"
      ]
    }
  ]
}