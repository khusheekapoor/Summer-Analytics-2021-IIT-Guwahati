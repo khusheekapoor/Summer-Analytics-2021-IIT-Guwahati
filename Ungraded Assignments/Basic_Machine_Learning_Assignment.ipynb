{
  "nbformat": 4,
  "nbformat_minor": 0,
  "metadata": {
    "colab": {
      "name": "Basic_Machine_Learning_Assignment .ipynb",
      "provenance": [],
      "collapsed_sections": []
    },
    "kernelspec": {
      "display_name": "Python 3",
      "language": "python",
      "name": "python3"
    },
    "language_info": {
      "codemirror_mode": {
        "name": "ipython",
        "version": 3
      },
      "file_extension": ".py",
      "mimetype": "text/x-python",
      "name": "python",
      "nbconvert_exporter": "python",
      "pygments_lexer": "ipython3",
      "version": "3.7.6"
    }
  },
  "cells": [
    {
      "cell_type": "markdown",
      "metadata": {
        "id": "5luSBeBLzWUK"
      },
      "source": [
        "# WEEK 2 Ungraded Solutions"
      ]
    },
    {
      "cell_type": "code",
      "metadata": {
        "id": "q5RCysOH9jUp"
      },
      "source": [
        "import numpy as np\n",
        "import pandas as pd\n",
        "import matplotlib.pyplot as plt\n",
        "import seaborn as sns"
      ],
      "execution_count": 1,
      "outputs": []
    },
    {
      "cell_type": "markdown",
      "metadata": {
        "id": "rVRV4pYw9jUt"
      },
      "source": [
        "It is highly recommended to read the documentation before implementing any alogorithm.\n",
        "\n",
        "LINEAR REGRESSION : \n",
        "https://scikit-learn.org/stable/modules/generated/sklearn.linear_model.LinearRegression.html <br>\n",
        "LOGISTIC REGRESSION :\n",
        "https://scikit-learn.org/stable/modules/generated/sklearn.linear_model.LogisticRegression.html<br>\n",
        "\n",
        "METRICS:<br>\n",
        "Mean Squared Error : http://scikit-learn.org/stable/modules/generated/sklearn.metrics.mean_squared_error.html<br>\n",
        "Mean Absolute Error : http://scikit-learn.org/stable/modules/generated/sklearn.metrics.mean_absolute_error.html<br>\n",
        "Accuracy Score : https://scikit-learn.org/stable/modules/generated/sklearn.metrics.accuracy_score.html<br>"
      ]
    },
    {
      "cell_type": "markdown",
      "metadata": {
        "id": "_lclLEtp9jUu"
      },
      "source": [
        "####  IMPORTING THE DATA"
      ]
    },
    {
      "cell_type": "code",
      "metadata": {
        "id": "JRV20Tv-9jUu"
      },
      "source": [
        "# WRITE CODE HERE IMPORT THE DATA AS 'data'\n",
        "# Start code\n",
        "data = pd.read_csv(\"cars_data.csv\")\n",
        "# End code"
      ],
      "execution_count": 2,
      "outputs": []
    },
    {
      "cell_type": "code",
      "metadata": {
        "id": "fmude2rPzgyy",
        "scrolled": false,
        "colab": {
          "base_uri": "https://localhost:8080/",
          "height": 195
        },
        "outputId": "2d819999-6d4c-4752-cdb5-7986a7b155f5"
      },
      "source": [
        "# VIEWING THE DATA ONCE\n",
        "# Start code\n",
        "data.head()\n",
        "# End code"
      ],
      "execution_count": 3,
      "outputs": [
        {
          "output_type": "execute_result",
          "data": {
            "text/html": [
              "<div>\n",
              "<style scoped>\n",
              "    .dataframe tbody tr th:only-of-type {\n",
              "        vertical-align: middle;\n",
              "    }\n",
              "\n",
              "    .dataframe tbody tr th {\n",
              "        vertical-align: top;\n",
              "    }\n",
              "\n",
              "    .dataframe thead th {\n",
              "        text-align: right;\n",
              "    }\n",
              "</style>\n",
              "<table border=\"1\" class=\"dataframe\">\n",
              "  <thead>\n",
              "    <tr style=\"text-align: right;\">\n",
              "      <th></th>\n",
              "      <th>price</th>\n",
              "      <th>year</th>\n",
              "      <th>mileage</th>\n",
              "      <th>AGE_IN_YEARS</th>\n",
              "      <th>chevrolet</th>\n",
              "      <th>dodge</th>\n",
              "      <th>gmc</th>\n",
              "      <th>jeep</th>\n",
              "      <th>nissan</th>\n",
              "      <th>salvage insurance</th>\n",
              "      <th>black</th>\n",
              "      <th>blue</th>\n",
              "      <th>gray</th>\n",
              "      <th>no_color</th>\n",
              "      <th>silver</th>\n",
              "      <th>white</th>\n",
              "      <th>Goa</th>\n",
              "      <th>MP</th>\n",
              "      <th>Maharashtra</th>\n",
              "      <th>UP</th>\n",
              "    </tr>\n",
              "  </thead>\n",
              "  <tbody>\n",
              "    <tr>\n",
              "      <th>0</th>\n",
              "      <td>2899</td>\n",
              "      <td>2011</td>\n",
              "      <td>190552.0</td>\n",
              "      <td>3</td>\n",
              "      <td>0</td>\n",
              "      <td>0</td>\n",
              "      <td>0</td>\n",
              "      <td>0</td>\n",
              "      <td>0</td>\n",
              "      <td>0</td>\n",
              "      <td>0</td>\n",
              "      <td>0</td>\n",
              "      <td>0</td>\n",
              "      <td>0</td>\n",
              "      <td>1</td>\n",
              "      <td>0</td>\n",
              "      <td>0</td>\n",
              "      <td>0</td>\n",
              "      <td>0</td>\n",
              "      <td>1</td>\n",
              "    </tr>\n",
              "    <tr>\n",
              "      <th>1</th>\n",
              "      <td>5350</td>\n",
              "      <td>2018</td>\n",
              "      <td>39590.0</td>\n",
              "      <td>2</td>\n",
              "      <td>0</td>\n",
              "      <td>1</td>\n",
              "      <td>0</td>\n",
              "      <td>0</td>\n",
              "      <td>0</td>\n",
              "      <td>0</td>\n",
              "      <td>0</td>\n",
              "      <td>0</td>\n",
              "      <td>0</td>\n",
              "      <td>0</td>\n",
              "      <td>1</td>\n",
              "      <td>0</td>\n",
              "      <td>0</td>\n",
              "      <td>1</td>\n",
              "      <td>0</td>\n",
              "      <td>0</td>\n",
              "    </tr>\n",
              "    <tr>\n",
              "      <th>2</th>\n",
              "      <td>25000</td>\n",
              "      <td>2014</td>\n",
              "      <td>64146.0</td>\n",
              "      <td>2</td>\n",
              "      <td>0</td>\n",
              "      <td>0</td>\n",
              "      <td>0</td>\n",
              "      <td>0</td>\n",
              "      <td>0</td>\n",
              "      <td>0</td>\n",
              "      <td>0</td>\n",
              "      <td>1</td>\n",
              "      <td>0</td>\n",
              "      <td>0</td>\n",
              "      <td>0</td>\n",
              "      <td>0</td>\n",
              "      <td>0</td>\n",
              "      <td>0</td>\n",
              "      <td>0</td>\n",
              "      <td>1</td>\n",
              "    </tr>\n",
              "    <tr>\n",
              "      <th>3</th>\n",
              "      <td>27700</td>\n",
              "      <td>2018</td>\n",
              "      <td>6654.0</td>\n",
              "      <td>3</td>\n",
              "      <td>1</td>\n",
              "      <td>0</td>\n",
              "      <td>0</td>\n",
              "      <td>0</td>\n",
              "      <td>0</td>\n",
              "      <td>0</td>\n",
              "      <td>0</td>\n",
              "      <td>0</td>\n",
              "      <td>0</td>\n",
              "      <td>0</td>\n",
              "      <td>0</td>\n",
              "      <td>0</td>\n",
              "      <td>0</td>\n",
              "      <td>0</td>\n",
              "      <td>1</td>\n",
              "      <td>0</td>\n",
              "    </tr>\n",
              "    <tr>\n",
              "      <th>4</th>\n",
              "      <td>5700</td>\n",
              "      <td>2018</td>\n",
              "      <td>45561.0</td>\n",
              "      <td>1</td>\n",
              "      <td>0</td>\n",
              "      <td>1</td>\n",
              "      <td>0</td>\n",
              "      <td>0</td>\n",
              "      <td>0</td>\n",
              "      <td>0</td>\n",
              "      <td>0</td>\n",
              "      <td>0</td>\n",
              "      <td>0</td>\n",
              "      <td>0</td>\n",
              "      <td>0</td>\n",
              "      <td>1</td>\n",
              "      <td>0</td>\n",
              "      <td>0</td>\n",
              "      <td>0</td>\n",
              "      <td>1</td>\n",
              "    </tr>\n",
              "  </tbody>\n",
              "</table>\n",
              "</div>"
            ],
            "text/plain": [
              "   price  year   mileage  AGE_IN_YEARS  ...  Goa  MP  Maharashtra  UP\n",
              "0   2899  2011  190552.0             3  ...    0   0            0   1\n",
              "1   5350  2018   39590.0             2  ...    0   1            0   0\n",
              "2  25000  2014   64146.0             2  ...    0   0            0   1\n",
              "3  27700  2018    6654.0             3  ...    0   0            1   0\n",
              "4   5700  2018   45561.0             1  ...    0   0            0   1\n",
              "\n",
              "[5 rows x 20 columns]"
            ]
          },
          "metadata": {
            "tags": []
          },
          "execution_count": 3
        }
      ]
    },
    {
      "cell_type": "markdown",
      "metadata": {
        "id": "-ZcVR3RC9jU4"
      },
      "source": [
        "We will use the `train_test_split` function to split the data into TRAIN and TEST <br>\n",
        "Here we import it from SKLEARN"
      ]
    },
    {
      "cell_type": "code",
      "metadata": {
        "id": "di5Jh08_9jU4"
      },
      "source": [
        "from sklearn.model_selection import train_test_split"
      ],
      "execution_count": 4,
      "outputs": []
    },
    {
      "cell_type": "markdown",
      "metadata": {
        "id": "aGQfEkmxpJlv"
      },
      "source": [
        "If you don't know about Feature transformation, it is highly recommended to go through this blog before proceding<br>\n",
        "<a href=\"https://towardsdatascience.com/top-3-methods-for-handling-skewed-data-1334e0debf45\">Top 3 Methods for Handling Skewed data</a>\n",
        "#### TLDR; We wish that all our features have a normal distribution"
      ]
    },
    {
      "cell_type": "markdown",
      "metadata": {
        "id": "ll5Q2xCm9jU7"
      },
      "source": [
        "Let us look at the Distribution of `Price` column "
      ]
    },
    {
      "cell_type": "code",
      "metadata": {
        "id": "OI3FinJlpJlv",
        "colab": {
          "base_uri": "https://localhost:8080/",
          "height": 279
        },
        "outputId": "62c63bf0-bf22-4bfd-a9be-b2271a5925b0"
      },
      "source": [
        "sns.histplot(x=data['price'], kde=True);"
      ],
      "execution_count": 5,
      "outputs": [
        {
          "output_type": "display_data",
          "data": {
            "image/png": "[encoded data removed]",
            "text/plain": [
              "<Figure size 432x288 with 1 Axes>"
            ]
          },
          "metadata": {
            "tags": [],
            "needs_background": "light"
          }
        }
      ]
    },
    {
      "cell_type": "markdown",
      "metadata": {
        "id": "jn6ZMkZd9jU_"
      },
      "source": [
        "It is RIGHT-SKEWED <br>\n",
        "We will either use log transform or sqrt transform"
      ]
    },
    {
      "cell_type": "code",
      "metadata": {
        "id": "nC13GB_f9jU_",
        "colab": {
          "base_uri": "https://localhost:8080/",
          "height": 573
        },
        "outputId": "c6733cbd-fc07-483d-ddc6-2354c5cbbc70"
      },
      "source": [
        "# WE HAVE WRITTEN THE CODE FOR PLOTTING THE HISTOGRAM FOR THE LOG-TRANSFORMED PRICE COLUMN AND SQRT TRANSFORMED SQRT COLUMN.\n",
        "sns.histplot(x=np.sqrt(data['price']), kde=True);\n",
        "plt.title('SQRT TRANSFORM');\n",
        "plt.show()\n",
        "sns.histplot(np.log(data['price']), kde=True);\n",
        "plt.title('LOG TRANSFORM');\n",
        "plt.show()"
      ],
      "execution_count": 6,
      "outputs": [
        {
          "output_type": "display_data",
          "data": {
            "image/png": "[encoded data removed]",
            "text/plain": [
              "<Figure size 432x288 with 1 Axes>"
            ]
          },
          "metadata": {
            "tags": [],
            "needs_background": "light"
          }
        },
        {
          "output_type": "display_data",
          "data": {
            "image/png": "[encoded data removed]",
            "text/plain": [
              "<Figure size 432x288 with 1 Axes>"
            ]
          },
          "metadata": {
            "tags": [],
            "needs_background": "light"
          }
        }
      ]
    },
    {
      "cell_type": "markdown",
      "metadata": {
        "id": "CIxuDmN89jVC"
      },
      "source": [
        "CLEARLY SQRT TRANSFORM IS BETTER"
      ]
    },
    {
      "cell_type": "code",
      "metadata": {
        "id": "ZEDTdMPP9jVC"
      },
      "source": [
        "# WE CONVERT PRICES TO THEIR SQRT AND ROUND OFF DECIMALS TO TWO\n",
        "data['price'] = round(np.sqrt(data['price']), 2)"
      ],
      "execution_count": 7,
      "outputs": []
    },
    {
      "cell_type": "code",
      "metadata": {
        "id": "DsRrd_c79jVG"
      },
      "source": [
        "# HERE WE SPLIT DATA INTO TRAIN TEST SPLIT\n",
        "X_train, X_test, y_train, y_test = train_test_split(data.drop('price',axis = 1), data['price'], test_size = 0.2, random_state = 1)"
      ],
      "execution_count": 8,
      "outputs": []
    },
    {
      "cell_type": "code",
      "metadata": {
        "id": "66Pr1G_89jVI",
        "colab": {
          "base_uri": "https://localhost:8080/"
        },
        "outputId": "4cb1ff48-52b9-41b6-850b-089fba8d0355"
      },
      "source": [
        "# LET US PRINT THE SHAPES\n",
        "print(X_train.shape) # Shape of X_train\n",
        "print(X_test.shape) # Shape of X_test\n",
        "print(y_train.shape) # Shape of y_train\n",
        "print(y_test.shape) # Shape of y_test\n",
        "\n",
        "print('\\nExpected shapes')\n",
        "print((1722, 19))\n",
        "print((431, 19))\n",
        "print((1722,))\n",
        "print((431,))\n",
        "print('\\nVerify if they are matching')"
      ],
      "execution_count": 9,
      "outputs": [
        {
          "output_type": "stream",
          "text": [
            "(1722, 19)\n",
            "(431, 19)\n",
            "(1722,)\n",
            "(431,)\n",
            "\n",
            "Expected shapes\n",
            "(1722, 19)\n",
            "(431, 19)\n",
            "(1722,)\n",
            "(431,)\n",
            "\n",
            "Verify if they are matching\n"
          ],
          "name": "stdout"
        }
      ]
    },
    {
      "cell_type": "markdown",
      "metadata": {
        "id": "MTbjksBn9jVK"
      },
      "source": [
        "<!-- NOW <br>\n",
        "LET US APPLY LINEAR REGRESSION ON THE DATA, THIS TIME WE WILL IMPORT IT FROM SKLEARN <br> -->\n",
        "### Linear Regression"
      ]
    },
    {
      "cell_type": "code",
      "metadata": {
        "id": "Qza5_BMn9jVK",
        "colab": {
          "base_uri": "https://localhost:8080/"
        },
        "outputId": "5eae019c-a6e8-423d-d864-7cfae545eb83"
      },
      "source": [
        "from sklearn.linear_model import LinearRegression\n",
        "from sklearn.metrics import mean_squared_error, mean_absolute_error\n",
        "# INITIALIZE LINEAR REGRESSION WITH ALL DEFAULT PARAMETERS as Linreg\n",
        "# Start code\n",
        "linreg = LinearRegression()\n",
        "# End code\n",
        "\n",
        "\n",
        "# FIT the model on the training data i.e. (X_train, y_train)\n",
        "# Start Code\n",
        "linreg.fit(X_train, y_train)\n",
        "# End Code\n",
        "\n",
        "\n",
        "# FIND TEST ERROR AND TRAIN ERROR WITH THE METRICS IMPORTED ABOVE\n",
        "# NOTE THAT WE HAVE SQUARED BACK THE VALUES AS WE ARE PREDICTING PRICES NOT THEIR SQUARE ROOT\n",
        "print(\"Linear Regression Training mean_square_error is \" + str(mean_squared_error(np.square(y_train), np.square(linreg.predict(X_train)))))\n",
        "print(\"Linear Regression Testing mean_square_error is \" + str(mean_squared_error(np.square(y_test), np.square(linreg.predict(X_test)))))\n",
        "\n",
        "\n",
        "# WRITE CODE FOR MEAN ABSOLUTE ERROR\n",
        "# Start code\n",
        "print(\"Linear Regression Training mean_square_error is \" + str(mean_absolute_error(np.square(y_train), np.square(linreg.predict(X_train)))))\n",
        "print(\"Linear Regression Testing mean_square_error is \" + str(mean_absolute_error(np.square(y_test), np.square(linreg.predict(X_test)))))\n",
        "# End code\n",
        "\n",
        "\n",
        "print(\"\\n\")\n",
        "print(\"The correct values are :\")\n",
        "\n",
        "print('Linear Regression Training mean_square_error is 90997459.24037895')\n",
        "print('Linear Regression Testing mean_square_error is 93998879.06677727')\n",
        "print('Linear Regression Training mean_absolute_error is 6864.98050501778')\n",
        "print('Linear Regression Testing mean_absolute_error is 6926.987292556893')\n",
        "\n",
        "print(\"\\nPlease verify if you have got the same values\")"
      ],
      "execution_count": 10,
      "outputs": [
        {
          "output_type": "stream",
          "text": [
            "Linear Regression Training mean_square_error is 90997459.24037959\n",
            "Linear Regression Testing mean_square_error is 93998879.0667781\n",
            "Linear Regression Training mean_square_error is 6864.980505017776\n",
            "Linear Regression Testing mean_square_error is 6926.987292556892\n",
            "\n",
            "\n",
            "The correct values are :\n",
            "Linear Regression Training mean_square_error is 90997459.24037895\n",
            "Linear Regression Testing mean_square_error is 93998879.06677727\n",
            "Linear Regression Training mean_absolute_error is 6864.98050501778\n",
            "Linear Regression Testing mean_absolute_error is 6926.987292556893\n",
            "\n",
            "Please verify if you have got the same values\n"
          ],
          "name": "stdout"
        }
      ]
    },
    {
      "cell_type": "markdown",
      "metadata": {
        "id": "sUEvPws29jVW"
      },
      "source": [
        "<!-- ##### NOW FOR CLASSIFICATION MODELS WE NEED TO CONVERT THE TARGET VARIABLE INTO DIFFERENT CLASSES -->\n",
        "##### Now for CLASSIFICATION models, we need to convert the target variable into different classes"
      ]
    },
    {
      "cell_type": "code",
      "metadata": {
        "id": "5EwOs0dv9jVX",
        "colab": {
          "base_uri": "https://localhost:8080/"
        },
        "outputId": "59c02715-0e84-40ef-cec6-c15022d299a1"
      },
      "source": [
        "# WE FIND THE MEDIAN\n",
        "np.square(data['price']).describe()"
      ],
      "execution_count": 11,
      "outputs": [
        {
          "output_type": "execute_result",
          "data": {
            "text/plain": [
              "count     2153.000000\n",
              "mean     19298.257905\n",
              "std      11904.254199\n",
              "min         25.000000\n",
              "25%      10799.366400\n",
              "50%      17300.140900\n",
              "75%      26001.562500\n",
              "max      74000.320900\n",
              "Name: price, dtype: float64"
            ]
          },
          "metadata": {
            "tags": []
          },
          "execution_count": 11
        }
      ]
    },
    {
      "cell_type": "markdown",
      "metadata": {
        "id": "SxdlNAd49jVa"
      },
      "source": [
        "<!-- WE WILL DO BINARY CLASSIFICATION AND DIVIDE THE DATA EQUALLY(ALMOST) INTO 1's AND 0's <br>\n",
        "WE HAVE CHOSEN THRESHOLD AT price = 20000 -->\n",
        "##### We will do Binary Classification (i.e. Classify into 2 classes) and divide the data equally (ALMOST) into 1's and 0's <br>\n",
        "##### We have chosen threshold at PRICE = 20000"
      ]
    },
    {
      "cell_type": "code",
      "metadata": {
        "id": "waGj0igv9jVa"
      },
      "source": [
        "data.loc[np.square(data['price']) < 20000, 'price'] = 0\n",
        "data.loc[np.square(data['price']) >= 20000, 'price'] = 1"
      ],
      "execution_count": 12,
      "outputs": []
    },
    {
      "cell_type": "code",
      "metadata": {
        "id": "G4pCJ7pw9jVc",
        "colab": {
          "base_uri": "https://localhost:8080/",
          "height": 195
        },
        "outputId": "11059239-69a4-452b-ed32-a22281c2365e"
      },
      "source": [
        "# VIEWING THE DATA ONCE\n",
        "# Start code\n",
        "data.head()\n",
        "# End code"
      ],
      "execution_count": 13,
      "outputs": [
        {
          "output_type": "execute_result",
          "data": {
            "text/html": [
              "<div>\n",
              "<style scoped>\n",
              "    .dataframe tbody tr th:only-of-type {\n",
              "        vertical-align: middle;\n",
              "    }\n",
              "\n",
              "    .dataframe tbody tr th {\n",
              "        vertical-align: top;\n",
              "    }\n",
              "\n",
              "    .dataframe thead th {\n",
              "        text-align: right;\n",
              "    }\n",
              "</style>\n",
              "<table border=\"1\" class=\"dataframe\">\n",
              "  <thead>\n",
              "    <tr style=\"text-align: right;\">\n",
              "      <th></th>\n",
              "      <th>price</th>\n",
              "      <th>year</th>\n",
              "      <th>mileage</th>\n",
              "      <th>AGE_IN_YEARS</th>\n",
              "      <th>chevrolet</th>\n",
              "      <th>dodge</th>\n",
              "      <th>gmc</th>\n",
              "      <th>jeep</th>\n",
              "      <th>nissan</th>\n",
              "      <th>salvage insurance</th>\n",
              "      <th>black</th>\n",
              "      <th>blue</th>\n",
              "      <th>gray</th>\n",
              "      <th>no_color</th>\n",
              "      <th>silver</th>\n",
              "      <th>white</th>\n",
              "      <th>Goa</th>\n",
              "      <th>MP</th>\n",
              "      <th>Maharashtra</th>\n",
              "      <th>UP</th>\n",
              "    </tr>\n",
              "  </thead>\n",
              "  <tbody>\n",
              "    <tr>\n",
              "      <th>0</th>\n",
              "      <td>0.0</td>\n",
              "      <td>2011</td>\n",
              "      <td>190552.0</td>\n",
              "      <td>3</td>\n",
              "      <td>0</td>\n",
              "      <td>0</td>\n",
              "      <td>0</td>\n",
              "      <td>0</td>\n",
              "      <td>0</td>\n",
              "      <td>0</td>\n",
              "      <td>0</td>\n",
              "      <td>0</td>\n",
              "      <td>0</td>\n",
              "      <td>0</td>\n",
              "      <td>1</td>\n",
              "      <td>0</td>\n",
              "      <td>0</td>\n",
              "      <td>0</td>\n",
              "      <td>0</td>\n",
              "      <td>1</td>\n",
              "    </tr>\n",
              "    <tr>\n",
              "      <th>1</th>\n",
              "      <td>0.0</td>\n",
              "      <td>2018</td>\n",
              "      <td>39590.0</td>\n",
              "      <td>2</td>\n",
              "      <td>0</td>\n",
              "      <td>1</td>\n",
              "      <td>0</td>\n",
              "      <td>0</td>\n",
              "      <td>0</td>\n",
              "      <td>0</td>\n",
              "      <td>0</td>\n",
              "      <td>0</td>\n",
              "      <td>0</td>\n",
              "      <td>0</td>\n",
              "      <td>1</td>\n",
              "      <td>0</td>\n",
              "      <td>0</td>\n",
              "      <td>1</td>\n",
              "      <td>0</td>\n",
              "      <td>0</td>\n",
              "    </tr>\n",
              "    <tr>\n",
              "      <th>2</th>\n",
              "      <td>1.0</td>\n",
              "      <td>2014</td>\n",
              "      <td>64146.0</td>\n",
              "      <td>2</td>\n",
              "      <td>0</td>\n",
              "      <td>0</td>\n",
              "      <td>0</td>\n",
              "      <td>0</td>\n",
              "      <td>0</td>\n",
              "      <td>0</td>\n",
              "      <td>0</td>\n",
              "      <td>1</td>\n",
              "      <td>0</td>\n",
              "      <td>0</td>\n",
              "      <td>0</td>\n",
              "      <td>0</td>\n",
              "      <td>0</td>\n",
              "      <td>0</td>\n",
              "      <td>0</td>\n",
              "      <td>1</td>\n",
              "    </tr>\n",
              "    <tr>\n",
              "      <th>3</th>\n",
              "      <td>1.0</td>\n",
              "      <td>2018</td>\n",
              "      <td>6654.0</td>\n",
              "      <td>3</td>\n",
              "      <td>1</td>\n",
              "      <td>0</td>\n",
              "      <td>0</td>\n",
              "      <td>0</td>\n",
              "      <td>0</td>\n",
              "      <td>0</td>\n",
              "      <td>0</td>\n",
              "      <td>0</td>\n",
              "      <td>0</td>\n",
              "      <td>0</td>\n",
              "      <td>0</td>\n",
              "      <td>0</td>\n",
              "      <td>0</td>\n",
              "      <td>0</td>\n",
              "      <td>1</td>\n",
              "      <td>0</td>\n",
              "    </tr>\n",
              "    <tr>\n",
              "      <th>4</th>\n",
              "      <td>0.0</td>\n",
              "      <td>2018</td>\n",
              "      <td>45561.0</td>\n",
              "      <td>1</td>\n",
              "      <td>0</td>\n",
              "      <td>1</td>\n",
              "      <td>0</td>\n",
              "      <td>0</td>\n",
              "      <td>0</td>\n",
              "      <td>0</td>\n",
              "      <td>0</td>\n",
              "      <td>0</td>\n",
              "      <td>0</td>\n",
              "      <td>0</td>\n",
              "      <td>0</td>\n",
              "      <td>1</td>\n",
              "      <td>0</td>\n",
              "      <td>0</td>\n",
              "      <td>0</td>\n",
              "      <td>1</td>\n",
              "    </tr>\n",
              "  </tbody>\n",
              "</table>\n",
              "</div>"
            ],
            "text/plain": [
              "   price  year   mileage  AGE_IN_YEARS  ...  Goa  MP  Maharashtra  UP\n",
              "0    0.0  2011  190552.0             3  ...    0   0            0   1\n",
              "1    0.0  2018   39590.0             2  ...    0   1            0   0\n",
              "2    1.0  2014   64146.0             2  ...    0   0            0   1\n",
              "3    1.0  2018    6654.0             3  ...    0   0            1   0\n",
              "4    0.0  2018   45561.0             1  ...    0   0            0   1\n",
              "\n",
              "[5 rows x 20 columns]"
            ]
          },
          "metadata": {
            "tags": []
          },
          "execution_count": 13
        }
      ]
    },
    {
      "cell_type": "code",
      "metadata": {
        "id": "no82fZ4Y9jVf"
      },
      "source": [
        "X_train, X_test, y_train, y_test = train_test_split(data.drop('price',axis = 1), data['price'], test_size = 0.2,random_state = 1)"
      ],
      "execution_count": 14,
      "outputs": []
    },
    {
      "cell_type": "markdown",
      "metadata": {
        "id": "OnC1e0qqpJl0"
      },
      "source": [
        "### Logistic Regression"
      ]
    },
    {
      "cell_type": "code",
      "metadata": {
        "id": "CWKZZWms9jVh"
      },
      "source": [
        "from sklearn.linear_model import LogisticRegression\n",
        "from sklearn.metrics import accuracy_score"
      ],
      "execution_count": 15,
      "outputs": []
    },
    {
      "cell_type": "markdown",
      "metadata": {
        "id": "5xBVh3jJpJl0"
      },
      "source": [
        "#### Write Code here and find the Accuracy for LOGISTIC REGRESSION"
      ]
    },
    {
      "cell_type": "code",
      "metadata": {
        "id": "mWkYGoJZ9jVj",
        "colab": {
          "base_uri": "https://localhost:8080/"
        },
        "outputId": "8aeed47b-52e4-421c-8111-cd0019558cac"
      },
      "source": [
        "# INITIALIZE Logistic Regression BY TAKING solver as 'lbfgs', max_iter as 2000, random_state as 1 \n",
        "# START CODE\n",
        "logreg = LogisticRegression(solver='lbfgs', max_iter=2000, random_state=1)\n",
        "# END CODE\n",
        "\n",
        " \n",
        "# FIT Logistic Regression ON TRAINING DATA\n",
        "# START CODE\n",
        "logreg.fit(X_train, y_train)\n",
        "# END CODE\n",
        "\n",
        "\n",
        "# Find the Training and Testing Error using the accuracy_score function imported above\n",
        "# START CODE\n",
        "print(\"Logistic Regression Training Accuracy \" + str(accuracy_score(y_train, logreg.predict(X_train))))\n",
        "print(\"Logistic Regression Testing Accuracy \" + str(accuracy_score(y_test, logreg.predict(X_test))))\n",
        "# END CODE\n",
        "\n",
        "\n",
        "print(\"\\n\")\n",
        "print(\"The correct values are :\")\n",
        "\n",
        "print(\"Logistic Regression Training Accuracy 0.7264808362369338\")\n",
        "print(\"Logistic Regression Testing Accuracy 0.7192575406032483\")\n",
        "\n",
        "print(\"\\nPlease verify if you have got the same values\")"
      ],
      "execution_count": 16,
      "outputs": [
        {
          "output_type": "stream",
          "text": [
            "Logistic Regression Training Accuracy 0.7264808362369338\n",
            "Logistic Regression Testing Accuracy 0.7192575406032483\n",
            "\n",
            "\n",
            "The correct values are :\n",
            "Logistic Regression Training Accuracy 0.7264808362369338\n",
            "Logistic Regression Testing Accuracy 0.7192575406032483\n",
            "\n",
            "Please verify if you have got the same values\n"
          ],
          "name": "stdout"
        }
      ]
    }
  ]
}